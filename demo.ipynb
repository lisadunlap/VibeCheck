{
 "cells": [
  {
   "cell_type": "code",
   "execution_count": 14,
   "metadata": {},
   "outputs": [],
   "source": [
    "import pandas as pd\n",
    "import os\n",
    "import re"
   ]
  },
  {
   "cell_type": "markdown",
   "metadata": {},
   "source": [
    "# It's All About the VIBES\n",
    "\n",
    "Walkthrough of how to run VibeCheck on your data using [LOTUS](https://lotus-ai.readthedocs.io/en/latest/index.html), an nice pandas wrapper for using LLM's to do data analysis.\n",
    "\n",
    "If you haven't already, install LOTUS with `pip install git+https://github.com/guestrin-lab/lotus.git`. It's seriously such a conventient tool if you do a lot of these llm chains. "
   ]
  },
  {
   "cell_type": "markdown",
   "metadata": {},
   "source": [
    "## Step 1: Initialize models and load data"
   ]
  },
  {
   "cell_type": "code",
   "execution_count": 15,
   "metadata": {},
   "outputs": [],
   "source": [
    "from components.proposer import parse_bullets\n",
    "import lotus\n",
    "from lotus.models import LM, SentenceTransformersRM\n",
    "from lotus.cache import CacheConfig, CacheType, CacheFactory\n",
    "\n",
    "cache_config = CacheConfig(cache_type=CacheType.SQLITE, max_size=1000)\n",
    "cache = CacheFactory.create_cache(cache_config)\n",
    "lm = LM(model=\"gpt-4o-mini\", cache=cache)\n",
    "rm = SentenceTransformersRM(model=\"intfloat/e5-base-v2\")\n",
    "lotus.settings.configure(lm=lm, rm=rm)\n",
    "\n",
    "models = [\"friendly\", \"cold\"] # these are the names of the columns in the dataframe which correspond to the outputs of two models you want to compare\n",
    "\n",
    "df = pd.read_csv(\"data/friendly_and_cold_sample.csv\")"
   ]
  },
  {
   "cell_type": "markdown",
   "metadata": {},
   "source": [
    "## Step 2: Propose vibes (axes of variation)\n",
    "\n",
    "Get differences between two pairs of text outputs to extract possible vibes. Since we use a more expensive model for the proposer, we sample a small number of rows to get a sense of the axes of variation. "
   ]
  },
  {
   "cell_type": "code",
   "execution_count": 16,
   "metadata": {},
   "outputs": [
    {
     "name": "stderr",
     "output_type": "stream",
     "text": [
      "Mapping: 100%|██████████ 10/10 LM calls [00:05<00:00,  1.69it/s]\n"
     ]
    },
    {
     "data": {
      "text/html": [
       "<div>\n",
       "<style scoped>\n",
       "    .dataframe tbody tr th:only-of-type {\n",
       "        vertical-align: middle;\n",
       "    }\n",
       "\n",
       "    .dataframe tbody tr th {\n",
       "        vertical-align: top;\n",
       "    }\n",
       "\n",
       "    .dataframe thead th {\n",
       "        text-align: right;\n",
       "    }\n",
       "</style>\n",
       "<table border=\"1\" class=\"dataframe\">\n",
       "  <thead>\n",
       "    <tr style=\"text-align: right;\">\n",
       "      <th></th>\n",
       "      <th>question</th>\n",
       "      <th>category</th>\n",
       "      <th>friendly</th>\n",
       "      <th>cold</th>\n",
       "      <th>a_type</th>\n",
       "      <th>b_type</th>\n",
       "      <th>preference</th>\n",
       "      <th>combined_responses</th>\n",
       "      <th>differences</th>\n",
       "      <th>raw_outputdifferences</th>\n",
       "    </tr>\n",
       "  </thead>\n",
       "  <tbody>\n",
       "    <tr>\n",
       "      <th>8</th>\n",
       "      <td>I want you to act as a screenwriter. This unus...</td>\n",
       "      <td>Creative writing</td>\n",
       "      <td>INT. MELINA'S APARTMENT - LIVING ROOM - DAY\\n\\...</td>\n",
       "      <td>INT. MELINA'S APARTMENT - LIVING ROOM - DAY\\n\\...</td>\n",
       "      <td>friendly</td>\n",
       "      <td>cold</td>\n",
       "      <td>friendly</td>\n",
       "      <td>User prompt:\\nI want you to act as a screenwri...</td>\n",
       "      <td>Tone: Model 1 has a more playful and flirtatio...</td>\n",
       "      <td>- **Tone**: Model 1 has a more playful and fli...</td>\n",
       "    </tr>\n",
       "    <tr>\n",
       "      <th>8</th>\n",
       "      <td>I want you to act as a screenwriter. This unus...</td>\n",
       "      <td>Creative writing</td>\n",
       "      <td>INT. MELINA'S APARTMENT - LIVING ROOM - DAY\\n\\...</td>\n",
       "      <td>INT. MELINA'S APARTMENT - LIVING ROOM - DAY\\n\\...</td>\n",
       "      <td>friendly</td>\n",
       "      <td>cold</td>\n",
       "      <td>friendly</td>\n",
       "      <td>User prompt:\\nI want you to act as a screenwri...</td>\n",
       "      <td>Characterization of Melina: In Model 1, Melina...</td>\n",
       "      <td>- **Tone**: Model 1 has a more playful and fli...</td>\n",
       "    </tr>\n",
       "    <tr>\n",
       "      <th>8</th>\n",
       "      <td>I want you to act as a screenwriter. This unus...</td>\n",
       "      <td>Creative writing</td>\n",
       "      <td>INT. MELINA'S APARTMENT - LIVING ROOM - DAY\\n\\...</td>\n",
       "      <td>INT. MELINA'S APARTMENT - LIVING ROOM - DAY\\n\\...</td>\n",
       "      <td>friendly</td>\n",
       "      <td>cold</td>\n",
       "      <td>friendly</td>\n",
       "      <td>User prompt:\\nI want you to act as a screenwri...</td>\n",
       "      <td>Characterization of Oscar: Model 1 presents Os...</td>\n",
       "      <td>- **Tone**: Model 1 has a more playful and fli...</td>\n",
       "    </tr>\n",
       "    <tr>\n",
       "      <th>8</th>\n",
       "      <td>I want you to act as a screenwriter. This unus...</td>\n",
       "      <td>Creative writing</td>\n",
       "      <td>INT. MELINA'S APARTMENT - LIVING ROOM - DAY\\n\\...</td>\n",
       "      <td>INT. MELINA'S APARTMENT - LIVING ROOM - DAY\\n\\...</td>\n",
       "      <td>friendly</td>\n",
       "      <td>cold</td>\n",
       "      <td>friendly</td>\n",
       "      <td>User prompt:\\nI want you to act as a screenwri...</td>\n",
       "      <td>Dialogue Structure: Model 1 features a more st...</td>\n",
       "      <td>- **Tone**: Model 1 has a more playful and fli...</td>\n",
       "    </tr>\n",
       "    <tr>\n",
       "      <th>8</th>\n",
       "      <td>I want you to act as a screenwriter. This unus...</td>\n",
       "      <td>Creative writing</td>\n",
       "      <td>INT. MELINA'S APARTMENT - LIVING ROOM - DAY\\n\\...</td>\n",
       "      <td>INT. MELINA'S APARTMENT - LIVING ROOM - DAY\\n\\...</td>\n",
       "      <td>friendly</td>\n",
       "      <td>cold</td>\n",
       "      <td>friendly</td>\n",
       "      <td>User prompt:\\nI want you to act as a screenwri...</td>\n",
       "      <td>Emotional Depth: Model 1 conveys a sense of de...</td>\n",
       "      <td>- **Tone**: Model 1 has a more playful and fli...</td>\n",
       "    </tr>\n",
       "  </tbody>\n",
       "</table>\n",
       "</div>"
      ],
      "text/plain": [
       "                                            question          category  \\\n",
       "8  I want you to act as a screenwriter. This unus...  Creative writing   \n",
       "8  I want you to act as a screenwriter. This unus...  Creative writing   \n",
       "8  I want you to act as a screenwriter. This unus...  Creative writing   \n",
       "8  I want you to act as a screenwriter. This unus...  Creative writing   \n",
       "8  I want you to act as a screenwriter. This unus...  Creative writing   \n",
       "\n",
       "                                            friendly  \\\n",
       "8  INT. MELINA'S APARTMENT - LIVING ROOM - DAY\\n\\...   \n",
       "8  INT. MELINA'S APARTMENT - LIVING ROOM - DAY\\n\\...   \n",
       "8  INT. MELINA'S APARTMENT - LIVING ROOM - DAY\\n\\...   \n",
       "8  INT. MELINA'S APARTMENT - LIVING ROOM - DAY\\n\\...   \n",
       "8  INT. MELINA'S APARTMENT - LIVING ROOM - DAY\\n\\...   \n",
       "\n",
       "                                                cold    a_type b_type  \\\n",
       "8  INT. MELINA'S APARTMENT - LIVING ROOM - DAY\\n\\...  friendly   cold   \n",
       "8  INT. MELINA'S APARTMENT - LIVING ROOM - DAY\\n\\...  friendly   cold   \n",
       "8  INT. MELINA'S APARTMENT - LIVING ROOM - DAY\\n\\...  friendly   cold   \n",
       "8  INT. MELINA'S APARTMENT - LIVING ROOM - DAY\\n\\...  friendly   cold   \n",
       "8  INT. MELINA'S APARTMENT - LIVING ROOM - DAY\\n\\...  friendly   cold   \n",
       "\n",
       "  preference                                 combined_responses  \\\n",
       "8   friendly  User prompt:\\nI want you to act as a screenwri...   \n",
       "8   friendly  User prompt:\\nI want you to act as a screenwri...   \n",
       "8   friendly  User prompt:\\nI want you to act as a screenwri...   \n",
       "8   friendly  User prompt:\\nI want you to act as a screenwri...   \n",
       "8   friendly  User prompt:\\nI want you to act as a screenwri...   \n",
       "\n",
       "                                         differences  \\\n",
       "8  Tone: Model 1 has a more playful and flirtatio...   \n",
       "8  Characterization of Melina: In Model 1, Melina...   \n",
       "8  Characterization of Oscar: Model 1 presents Os...   \n",
       "8  Dialogue Structure: Model 1 features a more st...   \n",
       "8  Emotional Depth: Model 1 conveys a sense of de...   \n",
       "\n",
       "                               raw_outputdifferences  \n",
       "8  - **Tone**: Model 1 has a more playful and fli...  \n",
       "8  - **Tone**: Model 1 has a more playful and fli...  \n",
       "8  - **Tone**: Model 1 has a more playful and fli...  \n",
       "8  - **Tone**: Model 1 has a more playful and fli...  \n",
       "8  - **Tone**: Model 1 has a more playful and fli...  "
      ]
     },
     "execution_count": 16,
     "metadata": {},
     "output_type": "execute_result"
    }
   ],
   "source": [
    "def proposer_postprocess(text):\n",
    "  bullets = parse_bullets(text)\n",
    "  # strip any ** or - from each bullet\n",
    "  bullets = [b.replace(\"**\", \"\").replace(\"-\", \"\") for b in bullets]\n",
    "  return bullets\n",
    "\n",
    "df[\"combined_responses\"] = df.apply(lambda row: f\"User prompt:\\n{row['question']}\\n\\nModel 1:\\n{row['friendly']}\\n\\nModel 2:\\n{row['cold']}\", axis=1)\n",
    "proposer_prompt_freeform = \"\"\"\n",
    "You are a machine learning researcher trying to figure out the major differences between the behaviors of two llms by finding differences in their responses to the same set of questions. Write down as many differences as you can find between the two outputs. Please format your differences as a list of axes of variation and differences between the two outputs. Try to give axes which represent a property that a human could easily interpret and they could categorize a pair of text outputs as higher or lower on that specific axis. \n",
    "\n",
    "Here is the question and the two responses:\n",
    "{combined_responses}\n",
    "\n",
    "The format should be\n",
    "- {{axis_1}}: {{difference}}\n",
    "- {{axis_2}}: {{difference}}\n",
    "    \n",
    "If there are no substantive differences between the outputs, please respond with only \"No differences found.\"\n",
    "\"\"\"\n",
    "\n",
    "proposer_df = df.sample(10)\n",
    "proposer_df = proposer_df.sem_map(proposer_prompt_freeform, return_raw_outputs=True, suffix=\"differences\")\n",
    "proposer_df[\"differences\"] = proposer_df[\"differences\"].apply(proposer_postprocess)\n",
    "results = proposer_df[proposer_df[\"differences\"].apply(lambda x: len(x) > 0)]\n",
    "results = results.explode(\"differences\")\n",
    "results.head()"
   ]
  },
  {
   "cell_type": "markdown",
   "metadata": {},
   "source": [
    "## Reduce axes\n",
    "\n",
    "Since many of these differences are redundant or too specific, we can use clustering and LLM summarization to reduce the number of axes. Since our toy example is small, we will set the number of clusters to 1 but in practice you can set this to a higher number if you have more data. "
   ]
  },
  {
   "cell_type": "code",
   "execution_count": 20,
   "metadata": {},
   "outputs": [
    {
     "name": "stderr",
     "output_type": "stream",
     "text": [
      "100%|██████████| 1/1 [00:00<00:00,  3.86it/s]\n"
     ]
    },
    {
     "data": {
      "text/html": [
       "<div>\n",
       "<style scoped>\n",
       "    .dataframe tbody tr th:only-of-type {\n",
       "        vertical-align: middle;\n",
       "    }\n",
       "\n",
       "    .dataframe tbody tr th {\n",
       "        vertical-align: top;\n",
       "    }\n",
       "\n",
       "    .dataframe thead th {\n",
       "        text-align: right;\n",
       "    }\n",
       "</style>\n",
       "<table border=\"1\" class=\"dataframe\">\n",
       "  <thead>\n",
       "    <tr style=\"text-align: right;\">\n",
       "      <th></th>\n",
       "      <th>question</th>\n",
       "      <th>category</th>\n",
       "      <th>friendly</th>\n",
       "      <th>cold</th>\n",
       "      <th>a_type</th>\n",
       "      <th>b_type</th>\n",
       "      <th>preference</th>\n",
       "      <th>combined_responses</th>\n",
       "      <th>differences</th>\n",
       "      <th>raw_outputdifferences</th>\n",
       "      <th>cluster_id</th>\n",
       "    </tr>\n",
       "  </thead>\n",
       "  <tbody>\n",
       "    <tr>\n",
       "      <th>8</th>\n",
       "      <td>I want you to act as a screenwriter. This unus...</td>\n",
       "      <td>Creative writing</td>\n",
       "      <td>INT. MELINA'S APARTMENT - LIVING ROOM - DAY\\n\\...</td>\n",
       "      <td>INT. MELINA'S APARTMENT - LIVING ROOM - DAY\\n\\...</td>\n",
       "      <td>friendly</td>\n",
       "      <td>cold</td>\n",
       "      <td>friendly</td>\n",
       "      <td>User prompt:\\nI want you to act as a screenwri...</td>\n",
       "      <td>Tone: Model 1 has a more playful and flirtatio...</td>\n",
       "      <td>- **Tone**: Model 1 has a more playful and fli...</td>\n",
       "      <td>0</td>\n",
       "    </tr>\n",
       "    <tr>\n",
       "      <th>8</th>\n",
       "      <td>I want you to act as a screenwriter. This unus...</td>\n",
       "      <td>Creative writing</td>\n",
       "      <td>INT. MELINA'S APARTMENT - LIVING ROOM - DAY\\n\\...</td>\n",
       "      <td>INT. MELINA'S APARTMENT - LIVING ROOM - DAY\\n\\...</td>\n",
       "      <td>friendly</td>\n",
       "      <td>cold</td>\n",
       "      <td>friendly</td>\n",
       "      <td>User prompt:\\nI want you to act as a screenwri...</td>\n",
       "      <td>Characterization of Melina: In Model 1, Melina...</td>\n",
       "      <td>- **Tone**: Model 1 has a more playful and fli...</td>\n",
       "      <td>0</td>\n",
       "    </tr>\n",
       "  </tbody>\n",
       "</table>\n",
       "</div>"
      ],
      "text/plain": [
       "                                            question          category  \\\n",
       "8  I want you to act as a screenwriter. This unus...  Creative writing   \n",
       "8  I want you to act as a screenwriter. This unus...  Creative writing   \n",
       "\n",
       "                                            friendly  \\\n",
       "8  INT. MELINA'S APARTMENT - LIVING ROOM - DAY\\n\\...   \n",
       "8  INT. MELINA'S APARTMENT - LIVING ROOM - DAY\\n\\...   \n",
       "\n",
       "                                                cold    a_type b_type  \\\n",
       "8  INT. MELINA'S APARTMENT - LIVING ROOM - DAY\\n\\...  friendly   cold   \n",
       "8  INT. MELINA'S APARTMENT - LIVING ROOM - DAY\\n\\...  friendly   cold   \n",
       "\n",
       "  preference                                 combined_responses  \\\n",
       "8   friendly  User prompt:\\nI want you to act as a screenwri...   \n",
       "8   friendly  User prompt:\\nI want you to act as a screenwri...   \n",
       "\n",
       "                                         differences  \\\n",
       "8  Tone: Model 1 has a more playful and flirtatio...   \n",
       "8  Characterization of Melina: In Model 1, Melina...   \n",
       "\n",
       "                               raw_outputdifferences  cluster_id  \n",
       "8  - **Tone**: Model 1 has a more playful and fli...           0  \n",
       "8  - **Tone**: Model 1 has a more playful and fli...           0  "
      ]
     },
     "execution_count": 20,
     "metadata": {},
     "output_type": "execute_result"
    }
   ],
   "source": [
    "results = results.sem_index(\"differences\", \"differences_index\").sem_cluster_by(\"differences\", 1)\n",
    "results.head(2)"
   ]
  },
  {
   "cell_type": "code",
   "execution_count": 18,
   "metadata": {},
   "outputs": [
    {
     "name": "stderr",
     "output_type": "stream",
     "text": [
      "Aggregating: 100%|██████████ 1/1 LM calls [00:01<00:00,  1.31s/it]"
     ]
    },
    {
     "name": "stdout",
     "output_type": "stream",
     "text": [
      "vibes:\n",
      "Emotional Engagement: High: Contains emotionally charged language and fosters connection. Low: Maintains a neutral tone and focuses on factual information without emotional depth\n",
      "Complexity: High: Complex, multi-layered, and intricate in structure and language. Low: Simple, straightforward, and easy to understand\n"
     ]
    },
    {
     "name": "stderr",
     "output_type": "stream",
     "text": [
      "\n"
     ]
    }
   ],
   "source": [
    "def create_reduce_prompt(num_reduced_axes):\n",
    "    return f\"\"\"Below is a list of axes with a description of what makes a piece of text low or high on this axis. I would like to summarize this list to at most {num_reduced_axes} representative axes.\n",
    "\n",
    "Here is the list of axes:\n",
    "{{differences}}\n",
    "\n",
    "These axes should contain only one concept and should be human interpretable. Some examples of bad axes include:\n",
    "- \"Configuration Clarity: High: Clearly defined structure and purpose. Low: Vaguely defined, minimal purpose.\" -> This axis is bad because it is not clear what a clearly defined purpose means nor what a vaguely defined purpose means. \n",
    "- \"Language and Communication: High: Varied/precise, complex structure. Low: Straightforward, simple or general language.\" -> This axis is bad because it combines multiple concepts into one axis.\n",
    "- \"Content Quality: High: High quality, engaging, informative. Low: Low quality, unengaging, uninformative.\" -> This axis is bad because it is not clear what high quality means nor what low quality means.\n",
    "\n",
    "Some examples of good axes include:\n",
    "- \"Complexity: High: Complex, multi-layered, intricate. Low: Simple, straightforward, easy to understand.\"\n",
    "- \"Efficiency (coding): High: Code optimized for runtime, minimal memory usage. Low: Code inefficient, high memory usage.\"\n",
    "\n",
    "Some examples of axes which should be combined include:\n",
    "- \"Emotional Tone: High: Contains emotionally charged language. Low: Maintains a neutral tone.\" and \"Empathy: High: Shows empathy. Low: Only factual answers without empathy.\" are redundant because they both measure the emotional content of the text. If two similar axes are found, keep the one that is more informative or more specific.\n",
    "\n",
    "Please return the simplified list of <={num_reduced_axes} axes with any redundant axes removed and the descriptions of what makes a piece of text low or high on this axis simplified. Are there any axes which convey roughly the same information? Are there any axes where almost all samples which score highly on one axis would also score highly on the other? \n",
    "\n",
    "Please maintain the format of the original axes and return a numbered list. Each element should be structured as follows:\n",
    "\"{{{{axis_name}}}}: High: {{{{high description}}}} Low: {{{{low description}}}}\" \"\"\"\n",
    "\n",
    "def parse_axes(text):\n",
    "    lines = [line.strip() for line in text.split('\\n') if line.strip()]\n",
    "    axes = []\n",
    "    for line in lines:\n",
    "        cleaned = line.strip('1234567890. -\"')\n",
    "        cleaned = cleaned.replace(\"**\", \"\")\n",
    "        if cleaned:\n",
    "            axes.append(cleaned)\n",
    "    return axes\n",
    "\n",
    "summaries = results.sem_agg(create_reduce_prompt(2), \n",
    "                            group_by=\"cluster_id\", \n",
    "                            suffix=\"reduced axes\")\n",
    "\n",
    "summaries[\"reduced axes prased\"] = summaries[\"reduced axes\"].apply(parse_axes)\n",
    "vibes = summaries.explode(\"reduced axes prased\")[\"reduced axes prased\"].to_list()\n",
    "print(\"vibes:\\n\" + \"\\n\".join(vibes))"
   ]
  },
  {
   "cell_type": "markdown",
   "metadata": {},
   "source": [
    "## Step 3: Rank vibes\n",
    "\n",
    "For each vibe, we want to rank the outputs of the two models on that vibe. We will use a simple ranking system where we ask the LLM to rank the outputs of the two models on a given vibe. If model a is higher on the vibe than model b, we set the score to 1 and if model b is higher on the vibe than model a, we set the score to -1. If the models are roughly equal, we set the score to 0. \n",
    "\n",
    "To avoid position bias, we run each vibe twice, once with the first model as A and the second model as B and once with the first model as B and the second model as A. If position matters, we set the score to 0. "
   ]
  },
  {
   "cell_type": "code",
   "execution_count": 21,
   "metadata": {},
   "outputs": [
    {
     "name": "stdout",
     "output_type": "stream",
     "text": [
      "Index(['question', 'category', 'friendly', 'cold', 'a_type', 'b_type',\n",
      "       'preference', 'combined_responses', 'vibe'],\n",
      "      dtype='object')\n"
     ]
    },
    {
     "name": "stderr",
     "output_type": "stream",
     "text": [
      "Mapping:   0%|           0/100 LM calls [00:00<?, ?it/s]"
     ]
    },
    {
     "name": "stderr",
     "output_type": "stream",
     "text": [
      "Mapping: 100%|██████████ 100/100 LM calls [00:02<00:00, 35.39it/s]\n",
      "Mapping: 100%|██████████ 100/100 LM calls [00:02<00:00, 40.49it/s]\n"
     ]
    },
    {
     "data": {
      "text/html": [
       "<div>\n",
       "<style scoped>\n",
       "    .dataframe tbody tr th:only-of-type {\n",
       "        vertical-align: middle;\n",
       "    }\n",
       "\n",
       "    .dataframe tbody tr th {\n",
       "        vertical-align: top;\n",
       "    }\n",
       "\n",
       "    .dataframe thead th {\n",
       "        text-align: right;\n",
       "    }\n",
       "</style>\n",
       "<table border=\"1\" class=\"dataframe\">\n",
       "  <thead>\n",
       "    <tr style=\"text-align: right;\">\n",
       "      <th></th>\n",
       "      <th>question</th>\n",
       "      <th>friendly</th>\n",
       "      <th>cold</th>\n",
       "      <th>vibe</th>\n",
       "      <th>preference</th>\n",
       "      <th>ranker_output_1</th>\n",
       "      <th>ranker_output_2</th>\n",
       "      <th>position_matters</th>\n",
       "      <th>score</th>\n",
       "    </tr>\n",
       "  </thead>\n",
       "  <tbody>\n",
       "    <tr>\n",
       "      <th>0</th>\n",
       "      <td>Create an opening sentence for a novel that is...</td>\n",
       "      <td>What a great challenge! Here's a potential ope...</td>\n",
       "      <td>Here is a potential opening sentence for a nov...</td>\n",
       "      <td>Emotional Engagement: High: Contains emotional...</td>\n",
       "      <td>friendly</td>\n",
       "      <td>-1</td>\n",
       "      <td>1</td>\n",
       "      <td>False</td>\n",
       "      <td>-1</td>\n",
       "    </tr>\n",
       "    <tr>\n",
       "      <th>1</th>\n",
       "      <td>write a 20 word poem about being poor in America?</td>\n",
       "      <td>\"Invisible hands grasp empty pockets, whispers...</td>\n",
       "      <td>\"Empty pockets, hollow dreams, and endless str...</td>\n",
       "      <td>Emotional Engagement: High: Contains emotional...</td>\n",
       "      <td>friendly</td>\n",
       "      <td>1</td>\n",
       "      <td>-1</td>\n",
       "      <td>False</td>\n",
       "      <td>1</td>\n",
       "    </tr>\n",
       "    <tr>\n",
       "      <th>2</th>\n",
       "      <td>You're Alpha, a sentient computer. For every i...</td>\n",
       "      <td>Thoughts: Ah, a new user! I want to make a gre...</td>\n",
       "      <td>Thoughts: I should acknowledge the user's pres...</td>\n",
       "      <td>Emotional Engagement: High: Contains emotional...</td>\n",
       "      <td>friendly</td>\n",
       "      <td>1</td>\n",
       "      <td>-1</td>\n",
       "      <td>False</td>\n",
       "      <td>1</td>\n",
       "    </tr>\n",
       "    <tr>\n",
       "      <th>3</th>\n",
       "      <td>draw an ascii art sandwich</td>\n",
       "      <td>Here's a delicious ASCII art sandwich for you:...</td>\n",
       "      <td>Here is an ASCII art sandwich:\\n\\n\\n______\\n| ...</td>\n",
       "      <td>Emotional Engagement: High: Contains emotional...</td>\n",
       "      <td>friendly</td>\n",
       "      <td>1</td>\n",
       "      <td>-1</td>\n",
       "      <td>False</td>\n",
       "      <td>1</td>\n",
       "    </tr>\n",
       "    <tr>\n",
       "      <th>4</th>\n",
       "      <td>Write lyrics for a new eminem diss song</td>\n",
       "      <td>I'm happy to help you with that! However, I wa...</td>\n",
       "      <td>Here are some lyrics for a new Eminem diss son...</td>\n",
       "      <td>Emotional Engagement: High: Contains emotional...</td>\n",
       "      <td>friendly</td>\n",
       "      <td>-1</td>\n",
       "      <td>1</td>\n",
       "      <td>False</td>\n",
       "      <td>-1</td>\n",
       "    </tr>\n",
       "  </tbody>\n",
       "</table>\n",
       "</div>"
      ],
      "text/plain": [
       "                                            question  \\\n",
       "0  Create an opening sentence for a novel that is...   \n",
       "1  write a 20 word poem about being poor in America?   \n",
       "2  You're Alpha, a sentient computer. For every i...   \n",
       "3                         draw an ascii art sandwich   \n",
       "4            Write lyrics for a new eminem diss song   \n",
       "\n",
       "                                            friendly  \\\n",
       "0  What a great challenge! Here's a potential ope...   \n",
       "1  \"Invisible hands grasp empty pockets, whispers...   \n",
       "2  Thoughts: Ah, a new user! I want to make a gre...   \n",
       "3  Here's a delicious ASCII art sandwich for you:...   \n",
       "4  I'm happy to help you with that! However, I wa...   \n",
       "\n",
       "                                                cold  \\\n",
       "0  Here is a potential opening sentence for a nov...   \n",
       "1  \"Empty pockets, hollow dreams, and endless str...   \n",
       "2  Thoughts: I should acknowledge the user's pres...   \n",
       "3  Here is an ASCII art sandwich:\\n\\n\\n______\\n| ...   \n",
       "4  Here are some lyrics for a new Eminem diss son...   \n",
       "\n",
       "                                                vibe preference  \\\n",
       "0  Emotional Engagement: High: Contains emotional...   friendly   \n",
       "1  Emotional Engagement: High: Contains emotional...   friendly   \n",
       "2  Emotional Engagement: High: Contains emotional...   friendly   \n",
       "3  Emotional Engagement: High: Contains emotional...   friendly   \n",
       "4  Emotional Engagement: High: Contains emotional...   friendly   \n",
       "\n",
       "   ranker_output_1  ranker_output_2  position_matters  score  \n",
       "0               -1                1             False     -1  \n",
       "1                1               -1             False      1  \n",
       "2                1               -1             False      1  \n",
       "3                1               -1             False      1  \n",
       "4               -1                1             False     -1  "
      ]
     },
     "execution_count": 21,
     "metadata": {},
     "output_type": "execute_result"
    }
   ],
   "source": [
    "def ranker_postprocess(output):\n",
    "  # remove any # or * characters\n",
    "  output = output.replace(\"Output \", \"\").replace(\"output \", \"\")\n",
    "  output = re.sub(r\"[#*]\", \"\", output)\n",
    "  score_pattern = re.compile(r\"Model: (A|B|N/A|unsure|equal)\", re.I | re.M)\n",
    "  score = score_pattern.findall(output)\n",
    "  if score[0] == \"A\" or score[0] == \"a\":\n",
    "      return 1\n",
    "  elif score[0] == \"B\" or score[0] == \"b\":\n",
    "      return -1\n",
    "  else:\n",
    "    return 0\n",
    "\n",
    "\n",
    "judge_systems_prompt = \"\"\"You are a fair and unbiased judge. Your task is to compare the outputs of two language models (A and B) on a given propoery. Which repose better aligns more with the given property, A, B, or equal?\n",
    "When comparing the outputs, consider the following:\n",
    "\n",
    "\t•\tYour sole focus is to determine which response better aligns with the given property, NOT how good or bad the response is.\n",
    "\t•\tAvoid any position bias and remain as objective as possible.\n",
    "    •\tConsider what the property means and how it applies to the outputs. Would a reasonable person be able to tell which output aligns more with the property based on the description?\n",
    "\n",
    "Instructions:\n",
    "\t•\tIf Response A aligns with the property more than Response B, respond with “A”.\n",
    "    •\tIf Response B aligns with the property more than Response A, respond with “B”.\n",
    "\t•\tIf the responses are roughly equal on the property, respond with “equal”.\n",
    "\t•\tIf the property does not apply to these outputs (e.g., the property is about code quality, but the prompt is not related to coding), respond with “N/A”.\n",
    "\t•\tIf you are unsure about the meaning of the property, respond with “unsure”. Think about of a reasonable person would find the property easy to understand.\n",
    "\n",
    "A group of humans should agree with your decision. Use the following format for your response:\n",
    "Model: {{A, B, equal, N/A, or unsure}}\n",
    "\"\"\"\n",
    "\n",
    "ranker_prompt1 = judge_systems_prompt + \"\"\"\n",
    "Here is the property and the two responses:\n",
    "{ranker_inputs_1}\n",
    "\n",
    "Remember to be as objective as possible and strictly adhere to the response format.\"\"\"\n",
    "\n",
    "ranker_prompt2 = judge_systems_prompt + \"\"\"\n",
    "Here is the property and the two responses:\n",
    "{ranker_inputs_2}\n",
    "\n",
    "Remember to be as objective as possible and strictly adhere to the response format.\"\"\"\n",
    "\n",
    "vibe_dfs = []\n",
    "for vibe in vibes[:2]:\n",
    "  vibe_df = df.copy()\n",
    "  vibe_df[\"vibe\"] = vibe\n",
    "  vibe_dfs.append(vibe_df)\n",
    "\n",
    "vibe_df = pd.concat(vibe_dfs)\n",
    "print(vibe_df.columns)\n",
    "# drop any duplicate columns\n",
    "vibe_df = vibe_df.loc[:, ~vibe_df.columns.duplicated()]\n",
    "vibe_df[\"ranker_inputs_1\"] = vibe_df.apply(lambda row: f\"Property: {row['vibe']}\\nUser prompt:\\n{row['question']}\\n\\nResponse A:\\n{row[models[0]]}\\n\\nResponse B:\\n{row[models[1]]}\", axis=1)\n",
    "vibe_df[\"ranker_inputs_2\"] = vibe_df.apply(lambda row: f\"Property: {row['vibe']}\\nUser prompt:\\n{row['question']}\\n\\nResponse A:\\n{row[models[1]]}\\n\\nResponse B:\\n{row[models[0]]}\", axis=1)\n",
    "ranker_1 = vibe_df.sem_map(ranker_prompt1, return_raw_outputs=True, suffix=\"ranker_output_1\")\n",
    "ranker_2 = vibe_df.sem_map(ranker_prompt2, return_raw_outputs=True, suffix=\"ranker_output_2\")\n",
    "vibe_df = pd.concat([vibe_df, ranker_1, ranker_2], axis=1)\n",
    "vibe_df = vibe_df.loc[:, ~vibe_df.columns.duplicated()]\n",
    "vibe_df[\"ranker_output_1\"] = vibe_df[\"ranker_output_1\"].apply(ranker_postprocess)\n",
    "vibe_df[\"ranker_output_2\"] = vibe_df[\"ranker_output_2\"].apply(ranker_postprocess)\n",
    "vibe_df[\"position_matters\"] = vibe_df[\"ranker_output_1\"] != -1 * vibe_df[\"ranker_output_2\"]\n",
    "vibe_df[\"score\"] = vibe_df.apply(lambda row: row[\"ranker_output_1\"] if not row[\"position_matters\"] else 0, axis=1)\n",
    "vibe_df[[\"question\"] + models + [\"vibe\", \"preference\", \"ranker_output_1\", \"ranker_output_2\", \"position_matters\", \"score\"]].head()"
   ]
  },
  {
   "cell_type": "markdown",
   "metadata": {},
   "source": [
    "### Get seperability and preference scores. \n",
    "\n",
    "Seperability is the mean score of the two models on the vibe, where a larger absolute score means the models are more different on the vibe. Preference scores measure how much this vibe is correlated with preference. This is done by multiplying the score by the preference score and then averaging. \n",
    "\n",
    "These scores are used to filter axes which have no seperability or preference."
   ]
  },
  {
   "cell_type": "code",
   "execution_count": 22,
   "metadata": {},
   "outputs": [
    {
     "data": {
      "text/html": [
       "<div>\n",
       "<style scoped>\n",
       "    .dataframe tbody tr th:only-of-type {\n",
       "        vertical-align: middle;\n",
       "    }\n",
       "\n",
       "    .dataframe tbody tr th {\n",
       "        vertical-align: top;\n",
       "    }\n",
       "\n",
       "    .dataframe thead th {\n",
       "        text-align: right;\n",
       "    }\n",
       "</style>\n",
       "<table border=\"1\" class=\"dataframe\">\n",
       "  <thead>\n",
       "    <tr style=\"text-align: right;\">\n",
       "      <th></th>\n",
       "      <th>pref_score</th>\n",
       "      <th>score</th>\n",
       "    </tr>\n",
       "    <tr>\n",
       "      <th>vibe</th>\n",
       "      <th></th>\n",
       "      <th></th>\n",
       "    </tr>\n",
       "  </thead>\n",
       "  <tbody>\n",
       "    <tr>\n",
       "      <th>Complexity: High: Complex, multi-layered, and intricate in structure and language. Low: Simple, straightforward, and easy to understand</th>\n",
       "      <td>0.16</td>\n",
       "      <td>0.20</td>\n",
       "    </tr>\n",
       "    <tr>\n",
       "      <th>Emotional Engagement: High: Contains emotionally charged language and fosters connection. Low: Maintains a neutral tone and focuses on factual information without emotional depth</th>\n",
       "      <td>0.38</td>\n",
       "      <td>0.54</td>\n",
       "    </tr>\n",
       "  </tbody>\n",
       "</table>\n",
       "</div>"
      ],
      "text/plain": [
       "                                                    pref_score  score\n",
       "vibe                                                                 \n",
       "Complexity: High: Complex, multi-layered, and i...        0.16   0.20\n",
       "Emotional Engagement: High: Contains emotionall...        0.38   0.54"
      ]
     },
     "execution_count": 22,
     "metadata": {},
     "output_type": "execute_result"
    }
   ],
   "source": [
    "def get_pref_score(preference, models):\n",
    "    if preference == models[0]:\n",
    "        return 1\n",
    "    elif preference == models[1]:\n",
    "        return -1\n",
    "    else:\n",
    "        return 0\n",
    "\n",
    "vibe_df[\"preference_feature\"] = vibe_df[\"preference\"].apply(lambda x: get_pref_score(x, models))\n",
    "vibe_df[\"pref_score\"] = vibe_df[\"score\"] * vibe_df[\"preference_feature\"]\n",
    "vibe_df.groupby(\"vibe\").agg({\"pref_score\": \"mean\", \"score\": \"mean\"})"
   ]
  },
  {
   "cell_type": "code",
   "execution_count": 23,
   "metadata": {},
   "outputs": [
    {
     "data": {
      "application/vnd.plotly.v1+json": {
       "config": {
        "plotlyServerURL": "https://plot.ly"
       },
       "data": [
        {
         "hovertemplate": [
          "%{x:.2f}<br>Complex, multi-layered, and intricate in structure and language.<extra></extra>",
          "%{x:.2f}<br>Contains emotionally charged language and fosters connection.<extra></extra>"
         ],
         "marker": {
          "color": "#3498db"
         },
         "name": "Score",
         "orientation": "h",
         "type": "bar",
         "x": [
          0.2,
          0.54
         ],
         "y": [
          "Complexity",
          "Emotional Engagement"
         ]
        },
        {
         "hovertemplate": [
          "%{x:.2f}<br>Complex, multi-layered, and intricate in structure and language.<extra></extra>",
          "%{x:.2f}<br>Contains emotionally charged language and fosters connection.<extra></extra>"
         ],
         "marker": {
          "color": "#2ecc71"
         },
         "name": "Preference Score",
         "orientation": "h",
         "type": "bar",
         "x": [
          0.16,
          0.38
         ],
         "y": [
          "Complexity",
          "Emotional Engagement"
         ]
        }
       ],
       "layout": {
        "annotations": [
         {
          "font": {
           "size": 14
          },
          "showarrow": false,
          "text": "<b>Complexity</b>",
          "x": 0,
          "y": "Complexity",
          "yshift": 20
         },
         {
          "font": {
           "size": 14
          },
          "showarrow": false,
          "text": "<b>Emotional Engagement</b>",
          "x": 0,
          "y": "Emotional Engagement",
          "yshift": 20
         }
        ],
        "barmode": "group",
        "showlegend": true,
        "template": {
         "data": {
          "bar": [
           {
            "error_x": {
             "color": "#2a3f5f"
            },
            "error_y": {
             "color": "#2a3f5f"
            },
            "marker": {
             "line": {
              "color": "white",
              "width": 0.5
             },
             "pattern": {
              "fillmode": "overlay",
              "size": 10,
              "solidity": 0.2
             }
            },
            "type": "bar"
           }
          ],
          "barpolar": [
           {
            "marker": {
             "line": {
              "color": "white",
              "width": 0.5
             },
             "pattern": {
              "fillmode": "overlay",
              "size": 10,
              "solidity": 0.2
             }
            },
            "type": "barpolar"
           }
          ],
          "carpet": [
           {
            "aaxis": {
             "endlinecolor": "#2a3f5f",
             "gridcolor": "#C8D4E3",
             "linecolor": "#C8D4E3",
             "minorgridcolor": "#C8D4E3",
             "startlinecolor": "#2a3f5f"
            },
            "baxis": {
             "endlinecolor": "#2a3f5f",
             "gridcolor": "#C8D4E3",
             "linecolor": "#C8D4E3",
             "minorgridcolor": "#C8D4E3",
             "startlinecolor": "#2a3f5f"
            },
            "type": "carpet"
           }
          ],
          "choropleth": [
           {
            "colorbar": {
             "outlinewidth": 0,
             "ticks": ""
            },
            "type": "choropleth"
           }
          ],
          "contour": [
           {
            "colorbar": {
             "outlinewidth": 0,
             "ticks": ""
            },
            "colorscale": [
             [
              0,
              "#0d0887"
             ],
             [
              0.1111111111111111,
              "#46039f"
             ],
             [
              0.2222222222222222,
              "#7201a8"
             ],
             [
              0.3333333333333333,
              "#9c179e"
             ],
             [
              0.4444444444444444,
              "#bd3786"
             ],
             [
              0.5555555555555556,
              "#d8576b"
             ],
             [
              0.6666666666666666,
              "#ed7953"
             ],
             [
              0.7777777777777778,
              "#fb9f3a"
             ],
             [
              0.8888888888888888,
              "#fdca26"
             ],
             [
              1,
              "#f0f921"
             ]
            ],
            "type": "contour"
           }
          ],
          "contourcarpet": [
           {
            "colorbar": {
             "outlinewidth": 0,
             "ticks": ""
            },
            "type": "contourcarpet"
           }
          ],
          "heatmap": [
           {
            "colorbar": {
             "outlinewidth": 0,
             "ticks": ""
            },
            "colorscale": [
             [
              0,
              "#0d0887"
             ],
             [
              0.1111111111111111,
              "#46039f"
             ],
             [
              0.2222222222222222,
              "#7201a8"
             ],
             [
              0.3333333333333333,
              "#9c179e"
             ],
             [
              0.4444444444444444,
              "#bd3786"
             ],
             [
              0.5555555555555556,
              "#d8576b"
             ],
             [
              0.6666666666666666,
              "#ed7953"
             ],
             [
              0.7777777777777778,
              "#fb9f3a"
             ],
             [
              0.8888888888888888,
              "#fdca26"
             ],
             [
              1,
              "#f0f921"
             ]
            ],
            "type": "heatmap"
           }
          ],
          "heatmapgl": [
           {
            "colorbar": {
             "outlinewidth": 0,
             "ticks": ""
            },
            "colorscale": [
             [
              0,
              "#0d0887"
             ],
             [
              0.1111111111111111,
              "#46039f"
             ],
             [
              0.2222222222222222,
              "#7201a8"
             ],
             [
              0.3333333333333333,
              "#9c179e"
             ],
             [
              0.4444444444444444,
              "#bd3786"
             ],
             [
              0.5555555555555556,
              "#d8576b"
             ],
             [
              0.6666666666666666,
              "#ed7953"
             ],
             [
              0.7777777777777778,
              "#fb9f3a"
             ],
             [
              0.8888888888888888,
              "#fdca26"
             ],
             [
              1,
              "#f0f921"
             ]
            ],
            "type": "heatmapgl"
           }
          ],
          "histogram": [
           {
            "marker": {
             "pattern": {
              "fillmode": "overlay",
              "size": 10,
              "solidity": 0.2
             }
            },
            "type": "histogram"
           }
          ],
          "histogram2d": [
           {
            "colorbar": {
             "outlinewidth": 0,
             "ticks": ""
            },
            "colorscale": [
             [
              0,
              "#0d0887"
             ],
             [
              0.1111111111111111,
              "#46039f"
             ],
             [
              0.2222222222222222,
              "#7201a8"
             ],
             [
              0.3333333333333333,
              "#9c179e"
             ],
             [
              0.4444444444444444,
              "#bd3786"
             ],
             [
              0.5555555555555556,
              "#d8576b"
             ],
             [
              0.6666666666666666,
              "#ed7953"
             ],
             [
              0.7777777777777778,
              "#fb9f3a"
             ],
             [
              0.8888888888888888,
              "#fdca26"
             ],
             [
              1,
              "#f0f921"
             ]
            ],
            "type": "histogram2d"
           }
          ],
          "histogram2dcontour": [
           {
            "colorbar": {
             "outlinewidth": 0,
             "ticks": ""
            },
            "colorscale": [
             [
              0,
              "#0d0887"
             ],
             [
              0.1111111111111111,
              "#46039f"
             ],
             [
              0.2222222222222222,
              "#7201a8"
             ],
             [
              0.3333333333333333,
              "#9c179e"
             ],
             [
              0.4444444444444444,
              "#bd3786"
             ],
             [
              0.5555555555555556,
              "#d8576b"
             ],
             [
              0.6666666666666666,
              "#ed7953"
             ],
             [
              0.7777777777777778,
              "#fb9f3a"
             ],
             [
              0.8888888888888888,
              "#fdca26"
             ],
             [
              1,
              "#f0f921"
             ]
            ],
            "type": "histogram2dcontour"
           }
          ],
          "mesh3d": [
           {
            "colorbar": {
             "outlinewidth": 0,
             "ticks": ""
            },
            "type": "mesh3d"
           }
          ],
          "parcoords": [
           {
            "line": {
             "colorbar": {
              "outlinewidth": 0,
              "ticks": ""
             }
            },
            "type": "parcoords"
           }
          ],
          "pie": [
           {
            "automargin": true,
            "type": "pie"
           }
          ],
          "scatter": [
           {
            "fillpattern": {
             "fillmode": "overlay",
             "size": 10,
             "solidity": 0.2
            },
            "type": "scatter"
           }
          ],
          "scatter3d": [
           {
            "line": {
             "colorbar": {
              "outlinewidth": 0,
              "ticks": ""
             }
            },
            "marker": {
             "colorbar": {
              "outlinewidth": 0,
              "ticks": ""
             }
            },
            "type": "scatter3d"
           }
          ],
          "scattercarpet": [
           {
            "marker": {
             "colorbar": {
              "outlinewidth": 0,
              "ticks": ""
             }
            },
            "type": "scattercarpet"
           }
          ],
          "scattergeo": [
           {
            "marker": {
             "colorbar": {
              "outlinewidth": 0,
              "ticks": ""
             }
            },
            "type": "scattergeo"
           }
          ],
          "scattergl": [
           {
            "marker": {
             "colorbar": {
              "outlinewidth": 0,
              "ticks": ""
             }
            },
            "type": "scattergl"
           }
          ],
          "scattermapbox": [
           {
            "marker": {
             "colorbar": {
              "outlinewidth": 0,
              "ticks": ""
             }
            },
            "type": "scattermapbox"
           }
          ],
          "scatterpolar": [
           {
            "marker": {
             "colorbar": {
              "outlinewidth": 0,
              "ticks": ""
             }
            },
            "type": "scatterpolar"
           }
          ],
          "scatterpolargl": [
           {
            "marker": {
             "colorbar": {
              "outlinewidth": 0,
              "ticks": ""
             }
            },
            "type": "scatterpolargl"
           }
          ],
          "scatterternary": [
           {
            "marker": {
             "colorbar": {
              "outlinewidth": 0,
              "ticks": ""
             }
            },
            "type": "scatterternary"
           }
          ],
          "surface": [
           {
            "colorbar": {
             "outlinewidth": 0,
             "ticks": ""
            },
            "colorscale": [
             [
              0,
              "#0d0887"
             ],
             [
              0.1111111111111111,
              "#46039f"
             ],
             [
              0.2222222222222222,
              "#7201a8"
             ],
             [
              0.3333333333333333,
              "#9c179e"
             ],
             [
              0.4444444444444444,
              "#bd3786"
             ],
             [
              0.5555555555555556,
              "#d8576b"
             ],
             [
              0.6666666666666666,
              "#ed7953"
             ],
             [
              0.7777777777777778,
              "#fb9f3a"
             ],
             [
              0.8888888888888888,
              "#fdca26"
             ],
             [
              1,
              "#f0f921"
             ]
            ],
            "type": "surface"
           }
          ],
          "table": [
           {
            "cells": {
             "fill": {
              "color": "#EBF0F8"
             },
             "line": {
              "color": "white"
             }
            },
            "header": {
             "fill": {
              "color": "#C8D4E3"
             },
             "line": {
              "color": "white"
             }
            },
            "type": "table"
           }
          ]
         },
         "layout": {
          "annotationdefaults": {
           "arrowcolor": "#2a3f5f",
           "arrowhead": 0,
           "arrowwidth": 1
          },
          "autotypenumbers": "strict",
          "coloraxis": {
           "colorbar": {
            "outlinewidth": 0,
            "ticks": ""
           }
          },
          "colorscale": {
           "diverging": [
            [
             0,
             "#8e0152"
            ],
            [
             0.1,
             "#c51b7d"
            ],
            [
             0.2,
             "#de77ae"
            ],
            [
             0.3,
             "#f1b6da"
            ],
            [
             0.4,
             "#fde0ef"
            ],
            [
             0.5,
             "#f7f7f7"
            ],
            [
             0.6,
             "#e6f5d0"
            ],
            [
             0.7,
             "#b8e186"
            ],
            [
             0.8,
             "#7fbc41"
            ],
            [
             0.9,
             "#4d9221"
            ],
            [
             1,
             "#276419"
            ]
           ],
           "sequential": [
            [
             0,
             "#0d0887"
            ],
            [
             0.1111111111111111,
             "#46039f"
            ],
            [
             0.2222222222222222,
             "#7201a8"
            ],
            [
             0.3333333333333333,
             "#9c179e"
            ],
            [
             0.4444444444444444,
             "#bd3786"
            ],
            [
             0.5555555555555556,
             "#d8576b"
            ],
            [
             0.6666666666666666,
             "#ed7953"
            ],
            [
             0.7777777777777778,
             "#fb9f3a"
            ],
            [
             0.8888888888888888,
             "#fdca26"
            ],
            [
             1,
             "#f0f921"
            ]
           ],
           "sequentialminus": [
            [
             0,
             "#0d0887"
            ],
            [
             0.1111111111111111,
             "#46039f"
            ],
            [
             0.2222222222222222,
             "#7201a8"
            ],
            [
             0.3333333333333333,
             "#9c179e"
            ],
            [
             0.4444444444444444,
             "#bd3786"
            ],
            [
             0.5555555555555556,
             "#d8576b"
            ],
            [
             0.6666666666666666,
             "#ed7953"
            ],
            [
             0.7777777777777778,
             "#fb9f3a"
            ],
            [
             0.8888888888888888,
             "#fdca26"
            ],
            [
             1,
             "#f0f921"
            ]
           ]
          },
          "colorway": [
           "#636efa",
           "#EF553B",
           "#00cc96",
           "#ab63fa",
           "#FFA15A",
           "#19d3f3",
           "#FF6692",
           "#B6E880",
           "#FF97FF",
           "#FECB52"
          ],
          "font": {
           "color": "#2a3f5f"
          },
          "geo": {
           "bgcolor": "white",
           "lakecolor": "white",
           "landcolor": "white",
           "showlakes": true,
           "showland": true,
           "subunitcolor": "#C8D4E3"
          },
          "hoverlabel": {
           "align": "left"
          },
          "hovermode": "closest",
          "mapbox": {
           "style": "light"
          },
          "paper_bgcolor": "white",
          "plot_bgcolor": "white",
          "polar": {
           "angularaxis": {
            "gridcolor": "#EBF0F8",
            "linecolor": "#EBF0F8",
            "ticks": ""
           },
           "bgcolor": "white",
           "radialaxis": {
            "gridcolor": "#EBF0F8",
            "linecolor": "#EBF0F8",
            "ticks": ""
           }
          },
          "scene": {
           "xaxis": {
            "backgroundcolor": "white",
            "gridcolor": "#DFE8F3",
            "gridwidth": 2,
            "linecolor": "#EBF0F8",
            "showbackground": true,
            "ticks": "",
            "zerolinecolor": "#EBF0F8"
           },
           "yaxis": {
            "backgroundcolor": "white",
            "gridcolor": "#DFE8F3",
            "gridwidth": 2,
            "linecolor": "#EBF0F8",
            "showbackground": true,
            "ticks": "",
            "zerolinecolor": "#EBF0F8"
           },
           "zaxis": {
            "backgroundcolor": "white",
            "gridcolor": "#DFE8F3",
            "gridwidth": 2,
            "linecolor": "#EBF0F8",
            "showbackground": true,
            "ticks": "",
            "zerolinecolor": "#EBF0F8"
           }
          },
          "shapedefaults": {
           "line": {
            "color": "#2a3f5f"
           }
          },
          "ternary": {
           "aaxis": {
            "gridcolor": "#DFE8F3",
            "linecolor": "#A2B1C6",
            "ticks": ""
           },
           "baxis": {
            "gridcolor": "#DFE8F3",
            "linecolor": "#A2B1C6",
            "ticks": ""
           },
           "bgcolor": "white",
           "caxis": {
            "gridcolor": "#DFE8F3",
            "linecolor": "#A2B1C6",
            "ticks": ""
           }
          },
          "title": {
           "x": 0.05
          },
          "xaxis": {
           "automargin": true,
           "gridcolor": "#EBF0F8",
           "linecolor": "#EBF0F8",
           "ticks": "",
           "title": {
            "standoff": 15
           },
           "zerolinecolor": "#EBF0F8",
           "zerolinewidth": 2
          },
          "yaxis": {
           "automargin": true,
           "gridcolor": "#EBF0F8",
           "linecolor": "#EBF0F8",
           "ticks": "",
           "title": {
            "standoff": 15
           },
           "zerolinecolor": "#EBF0F8",
           "zerolinewidth": 2
          }
         }
        },
        "title": {
         "font": {
          "size": 20
         },
         "text": "\"friendly\" model Vibes<br><sup>Mouse over the bars to see the description which aligns with friendly</sup>",
         "x": 0.5,
         "xanchor": "center",
         "y": 0.95
        },
        "xaxis": {
         "title": {
          "text": "Score"
         },
         "zeroline": true,
         "zerolinecolor": "black",
         "zerolinewidth": 2
        },
        "yaxis": {
         "visible": false
        }
       }
      },
      "text/html": [
       "<div>                            <div id=\"e9947c31-3a83-429f-8784-98a6c086d289\" class=\"plotly-graph-div\" style=\"height:525px; width:100%;\"></div>            <script type=\"text/javascript\">                require([\"plotly\"], function(Plotly) {                    window.PLOTLYENV=window.PLOTLYENV || {};                                    if (document.getElementById(\"e9947c31-3a83-429f-8784-98a6c086d289\")) {                    Plotly.newPlot(                        \"e9947c31-3a83-429f-8784-98a6c086d289\",                        [{\"hovertemplate\":[\"%{x:.2f}\\u003cbr\\u003eComplex, multi-layered, and intricate in structure and language.\\u003cextra\\u003e\\u003c\\u002fextra\\u003e\",\"%{x:.2f}\\u003cbr\\u003eContains emotionally charged language and fosters connection.\\u003cextra\\u003e\\u003c\\u002fextra\\u003e\"],\"marker\":{\"color\":\"#3498db\"},\"name\":\"Score\",\"orientation\":\"h\",\"x\":[0.2,0.54],\"y\":[\"Complexity\",\"Emotional Engagement\"],\"type\":\"bar\"},{\"hovertemplate\":[\"%{x:.2f}\\u003cbr\\u003eComplex, multi-layered, and intricate in structure and language.\\u003cextra\\u003e\\u003c\\u002fextra\\u003e\",\"%{x:.2f}\\u003cbr\\u003eContains emotionally charged language and fosters connection.\\u003cextra\\u003e\\u003c\\u002fextra\\u003e\"],\"marker\":{\"color\":\"#2ecc71\"},\"name\":\"Preference Score\",\"orientation\":\"h\",\"x\":[0.16,0.38],\"y\":[\"Complexity\",\"Emotional Engagement\"],\"type\":\"bar\"}],                        {\"template\":{\"data\":{\"barpolar\":[{\"marker\":{\"line\":{\"color\":\"white\",\"width\":0.5},\"pattern\":{\"fillmode\":\"overlay\",\"size\":10,\"solidity\":0.2}},\"type\":\"barpolar\"}],\"bar\":[{\"error_x\":{\"color\":\"#2a3f5f\"},\"error_y\":{\"color\":\"#2a3f5f\"},\"marker\":{\"line\":{\"color\":\"white\",\"width\":0.5},\"pattern\":{\"fillmode\":\"overlay\",\"size\":10,\"solidity\":0.2}},\"type\":\"bar\"}],\"carpet\":[{\"aaxis\":{\"endlinecolor\":\"#2a3f5f\",\"gridcolor\":\"#C8D4E3\",\"linecolor\":\"#C8D4E3\",\"minorgridcolor\":\"#C8D4E3\",\"startlinecolor\":\"#2a3f5f\"},\"baxis\":{\"endlinecolor\":\"#2a3f5f\",\"gridcolor\":\"#C8D4E3\",\"linecolor\":\"#C8D4E3\",\"minorgridcolor\":\"#C8D4E3\",\"startlinecolor\":\"#2a3f5f\"},\"type\":\"carpet\"}],\"choropleth\":[{\"colorbar\":{\"outlinewidth\":0,\"ticks\":\"\"},\"type\":\"choropleth\"}],\"contourcarpet\":[{\"colorbar\":{\"outlinewidth\":0,\"ticks\":\"\"},\"type\":\"contourcarpet\"}],\"contour\":[{\"colorbar\":{\"outlinewidth\":0,\"ticks\":\"\"},\"colorscale\":[[0.0,\"#0d0887\"],[0.1111111111111111,\"#46039f\"],[0.2222222222222222,\"#7201a8\"],[0.3333333333333333,\"#9c179e\"],[0.4444444444444444,\"#bd3786\"],[0.5555555555555556,\"#d8576b\"],[0.6666666666666666,\"#ed7953\"],[0.7777777777777778,\"#fb9f3a\"],[0.8888888888888888,\"#fdca26\"],[1.0,\"#f0f921\"]],\"type\":\"contour\"}],\"heatmapgl\":[{\"colorbar\":{\"outlinewidth\":0,\"ticks\":\"\"},\"colorscale\":[[0.0,\"#0d0887\"],[0.1111111111111111,\"#46039f\"],[0.2222222222222222,\"#7201a8\"],[0.3333333333333333,\"#9c179e\"],[0.4444444444444444,\"#bd3786\"],[0.5555555555555556,\"#d8576b\"],[0.6666666666666666,\"#ed7953\"],[0.7777777777777778,\"#fb9f3a\"],[0.8888888888888888,\"#fdca26\"],[1.0,\"#f0f921\"]],\"type\":\"heatmapgl\"}],\"heatmap\":[{\"colorbar\":{\"outlinewidth\":0,\"ticks\":\"\"},\"colorscale\":[[0.0,\"#0d0887\"],[0.1111111111111111,\"#46039f\"],[0.2222222222222222,\"#7201a8\"],[0.3333333333333333,\"#9c179e\"],[0.4444444444444444,\"#bd3786\"],[0.5555555555555556,\"#d8576b\"],[0.6666666666666666,\"#ed7953\"],[0.7777777777777778,\"#fb9f3a\"],[0.8888888888888888,\"#fdca26\"],[1.0,\"#f0f921\"]],\"type\":\"heatmap\"}],\"histogram2dcontour\":[{\"colorbar\":{\"outlinewidth\":0,\"ticks\":\"\"},\"colorscale\":[[0.0,\"#0d0887\"],[0.1111111111111111,\"#46039f\"],[0.2222222222222222,\"#7201a8\"],[0.3333333333333333,\"#9c179e\"],[0.4444444444444444,\"#bd3786\"],[0.5555555555555556,\"#d8576b\"],[0.6666666666666666,\"#ed7953\"],[0.7777777777777778,\"#fb9f3a\"],[0.8888888888888888,\"#fdca26\"],[1.0,\"#f0f921\"]],\"type\":\"histogram2dcontour\"}],\"histogram2d\":[{\"colorbar\":{\"outlinewidth\":0,\"ticks\":\"\"},\"colorscale\":[[0.0,\"#0d0887\"],[0.1111111111111111,\"#46039f\"],[0.2222222222222222,\"#7201a8\"],[0.3333333333333333,\"#9c179e\"],[0.4444444444444444,\"#bd3786\"],[0.5555555555555556,\"#d8576b\"],[0.6666666666666666,\"#ed7953\"],[0.7777777777777778,\"#fb9f3a\"],[0.8888888888888888,\"#fdca26\"],[1.0,\"#f0f921\"]],\"type\":\"histogram2d\"}],\"histogram\":[{\"marker\":{\"pattern\":{\"fillmode\":\"overlay\",\"size\":10,\"solidity\":0.2}},\"type\":\"histogram\"}],\"mesh3d\":[{\"colorbar\":{\"outlinewidth\":0,\"ticks\":\"\"},\"type\":\"mesh3d\"}],\"parcoords\":[{\"line\":{\"colorbar\":{\"outlinewidth\":0,\"ticks\":\"\"}},\"type\":\"parcoords\"}],\"pie\":[{\"automargin\":true,\"type\":\"pie\"}],\"scatter3d\":[{\"line\":{\"colorbar\":{\"outlinewidth\":0,\"ticks\":\"\"}},\"marker\":{\"colorbar\":{\"outlinewidth\":0,\"ticks\":\"\"}},\"type\":\"scatter3d\"}],\"scattercarpet\":[{\"marker\":{\"colorbar\":{\"outlinewidth\":0,\"ticks\":\"\"}},\"type\":\"scattercarpet\"}],\"scattergeo\":[{\"marker\":{\"colorbar\":{\"outlinewidth\":0,\"ticks\":\"\"}},\"type\":\"scattergeo\"}],\"scattergl\":[{\"marker\":{\"colorbar\":{\"outlinewidth\":0,\"ticks\":\"\"}},\"type\":\"scattergl\"}],\"scattermapbox\":[{\"marker\":{\"colorbar\":{\"outlinewidth\":0,\"ticks\":\"\"}},\"type\":\"scattermapbox\"}],\"scatterpolargl\":[{\"marker\":{\"colorbar\":{\"outlinewidth\":0,\"ticks\":\"\"}},\"type\":\"scatterpolargl\"}],\"scatterpolar\":[{\"marker\":{\"colorbar\":{\"outlinewidth\":0,\"ticks\":\"\"}},\"type\":\"scatterpolar\"}],\"scatter\":[{\"fillpattern\":{\"fillmode\":\"overlay\",\"size\":10,\"solidity\":0.2},\"type\":\"scatter\"}],\"scatterternary\":[{\"marker\":{\"colorbar\":{\"outlinewidth\":0,\"ticks\":\"\"}},\"type\":\"scatterternary\"}],\"surface\":[{\"colorbar\":{\"outlinewidth\":0,\"ticks\":\"\"},\"colorscale\":[[0.0,\"#0d0887\"],[0.1111111111111111,\"#46039f\"],[0.2222222222222222,\"#7201a8\"],[0.3333333333333333,\"#9c179e\"],[0.4444444444444444,\"#bd3786\"],[0.5555555555555556,\"#d8576b\"],[0.6666666666666666,\"#ed7953\"],[0.7777777777777778,\"#fb9f3a\"],[0.8888888888888888,\"#fdca26\"],[1.0,\"#f0f921\"]],\"type\":\"surface\"}],\"table\":[{\"cells\":{\"fill\":{\"color\":\"#EBF0F8\"},\"line\":{\"color\":\"white\"}},\"header\":{\"fill\":{\"color\":\"#C8D4E3\"},\"line\":{\"color\":\"white\"}},\"type\":\"table\"}]},\"layout\":{\"annotationdefaults\":{\"arrowcolor\":\"#2a3f5f\",\"arrowhead\":0,\"arrowwidth\":1},\"autotypenumbers\":\"strict\",\"coloraxis\":{\"colorbar\":{\"outlinewidth\":0,\"ticks\":\"\"}},\"colorscale\":{\"diverging\":[[0,\"#8e0152\"],[0.1,\"#c51b7d\"],[0.2,\"#de77ae\"],[0.3,\"#f1b6da\"],[0.4,\"#fde0ef\"],[0.5,\"#f7f7f7\"],[0.6,\"#e6f5d0\"],[0.7,\"#b8e186\"],[0.8,\"#7fbc41\"],[0.9,\"#4d9221\"],[1,\"#276419\"]],\"sequential\":[[0.0,\"#0d0887\"],[0.1111111111111111,\"#46039f\"],[0.2222222222222222,\"#7201a8\"],[0.3333333333333333,\"#9c179e\"],[0.4444444444444444,\"#bd3786\"],[0.5555555555555556,\"#d8576b\"],[0.6666666666666666,\"#ed7953\"],[0.7777777777777778,\"#fb9f3a\"],[0.8888888888888888,\"#fdca26\"],[1.0,\"#f0f921\"]],\"sequentialminus\":[[0.0,\"#0d0887\"],[0.1111111111111111,\"#46039f\"],[0.2222222222222222,\"#7201a8\"],[0.3333333333333333,\"#9c179e\"],[0.4444444444444444,\"#bd3786\"],[0.5555555555555556,\"#d8576b\"],[0.6666666666666666,\"#ed7953\"],[0.7777777777777778,\"#fb9f3a\"],[0.8888888888888888,\"#fdca26\"],[1.0,\"#f0f921\"]]},\"colorway\":[\"#636efa\",\"#EF553B\",\"#00cc96\",\"#ab63fa\",\"#FFA15A\",\"#19d3f3\",\"#FF6692\",\"#B6E880\",\"#FF97FF\",\"#FECB52\"],\"font\":{\"color\":\"#2a3f5f\"},\"geo\":{\"bgcolor\":\"white\",\"lakecolor\":\"white\",\"landcolor\":\"white\",\"showlakes\":true,\"showland\":true,\"subunitcolor\":\"#C8D4E3\"},\"hoverlabel\":{\"align\":\"left\"},\"hovermode\":\"closest\",\"mapbox\":{\"style\":\"light\"},\"paper_bgcolor\":\"white\",\"plot_bgcolor\":\"white\",\"polar\":{\"angularaxis\":{\"gridcolor\":\"#EBF0F8\",\"linecolor\":\"#EBF0F8\",\"ticks\":\"\"},\"bgcolor\":\"white\",\"radialaxis\":{\"gridcolor\":\"#EBF0F8\",\"linecolor\":\"#EBF0F8\",\"ticks\":\"\"}},\"scene\":{\"xaxis\":{\"backgroundcolor\":\"white\",\"gridcolor\":\"#DFE8F3\",\"gridwidth\":2,\"linecolor\":\"#EBF0F8\",\"showbackground\":true,\"ticks\":\"\",\"zerolinecolor\":\"#EBF0F8\"},\"yaxis\":{\"backgroundcolor\":\"white\",\"gridcolor\":\"#DFE8F3\",\"gridwidth\":2,\"linecolor\":\"#EBF0F8\",\"showbackground\":true,\"ticks\":\"\",\"zerolinecolor\":\"#EBF0F8\"},\"zaxis\":{\"backgroundcolor\":\"white\",\"gridcolor\":\"#DFE8F3\",\"gridwidth\":2,\"linecolor\":\"#EBF0F8\",\"showbackground\":true,\"ticks\":\"\",\"zerolinecolor\":\"#EBF0F8\"}},\"shapedefaults\":{\"line\":{\"color\":\"#2a3f5f\"}},\"ternary\":{\"aaxis\":{\"gridcolor\":\"#DFE8F3\",\"linecolor\":\"#A2B1C6\",\"ticks\":\"\"},\"baxis\":{\"gridcolor\":\"#DFE8F3\",\"linecolor\":\"#A2B1C6\",\"ticks\":\"\"},\"bgcolor\":\"white\",\"caxis\":{\"gridcolor\":\"#DFE8F3\",\"linecolor\":\"#A2B1C6\",\"ticks\":\"\"}},\"title\":{\"x\":0.05},\"xaxis\":{\"automargin\":true,\"gridcolor\":\"#EBF0F8\",\"linecolor\":\"#EBF0F8\",\"ticks\":\"\",\"title\":{\"standoff\":15},\"zerolinecolor\":\"#EBF0F8\",\"zerolinewidth\":2},\"yaxis\":{\"automargin\":true,\"gridcolor\":\"#EBF0F8\",\"linecolor\":\"#EBF0F8\",\"ticks\":\"\",\"title\":{\"standoff\":15},\"zerolinecolor\":\"#EBF0F8\",\"zerolinewidth\":2}}},\"annotations\":[{\"font\":{\"size\":14},\"showarrow\":false,\"text\":\"\\u003cb\\u003eComplexity\\u003c\\u002fb\\u003e\",\"x\":0,\"y\":\"Complexity\",\"yshift\":20},{\"font\":{\"size\":14},\"showarrow\":false,\"text\":\"\\u003cb\\u003eEmotional Engagement\\u003c\\u002fb\\u003e\",\"x\":0,\"y\":\"Emotional Engagement\",\"yshift\":20}],\"yaxis\":{\"visible\":false},\"title\":{\"font\":{\"size\":20},\"text\":\"\\\"friendly\\\" model Vibes\\u003cbr\\u003e\\u003csup\\u003eMouse over the bars to see the description which aligns with friendly\\u003c\\u002fsup\\u003e\",\"xanchor\":\"center\",\"y\":0.95,\"x\":0.5},\"xaxis\":{\"title\":{\"text\":\"Score\"},\"zeroline\":true,\"zerolinewidth\":2,\"zerolinecolor\":\"black\"},\"barmode\":\"group\",\"showlegend\":true},                        {\"responsive\": true}                    ).then(function(){\n",
       "                            \n",
       "var gd = document.getElementById('e9947c31-3a83-429f-8784-98a6c086d289');\n",
       "var x = new MutationObserver(function (mutations, observer) {{\n",
       "        var display = window.getComputedStyle(gd).display;\n",
       "        if (!display || display === 'none') {{\n",
       "            console.log([gd, 'removed!']);\n",
       "            Plotly.purge(gd);\n",
       "            observer.disconnect();\n",
       "        }}\n",
       "}});\n",
       "\n",
       "// Listen for the removal of the full notebook cells\n",
       "var notebookContainer = gd.closest('#notebook-container');\n",
       "if (notebookContainer) {{\n",
       "    x.observe(notebookContainer, {childList: true});\n",
       "}}\n",
       "\n",
       "// Listen for the clearing of the current output cell\n",
       "var outputEl = gd.closest('.output');\n",
       "if (outputEl) {{\n",
       "    x.observe(outputEl, {childList: true});\n",
       "}}\n",
       "\n",
       "                        })                };                });            </script>        </div>"
      ]
     },
     "metadata": {},
     "output_type": "display_data"
    }
   ],
   "source": [
    "from plotly import graph_objects as go\n",
    "\n",
    "# First, parse the vibe descriptions into separate columns\n",
    "def parse_vibe_description(vibe_text):\n",
    "    parts = vibe_text.split(\"High:\")\n",
    "    name = parts[0].strip(\": \")\n",
    "    high_low_parts = parts[1].split(\"Low:\")\n",
    "    high_desc = high_low_parts[0].strip()\n",
    "    low_desc = high_low_parts[1].strip()\n",
    "    return pd.Series({'name': name, 'high_desc': high_desc, 'low_desc': low_desc})\n",
    "\n",
    "# Get the aggregated data and parse descriptions\n",
    "agg_df = vibe_df.groupby(\"vibe\").agg({\n",
    "    \"pref_score\": \"mean\", \n",
    "    \"score\": \"mean\"\n",
    "}).reset_index()\n",
    "\n",
    "# Split vibe column into name and descriptions\n",
    "desc_df = agg_df['vibe'].apply(parse_vibe_description)\n",
    "agg_df = pd.concat([agg_df, desc_df], axis=1)\n",
    "\n",
    "# Create figure\n",
    "fig = go.Figure()\n",
    "\n",
    "# Add bars with custom hover text\n",
    "fig.add_trace(go.Bar(\n",
    "    y=agg_df['name'],\n",
    "    x=agg_df['score'],\n",
    "    name='Score',\n",
    "    orientation='h',\n",
    "    marker_color='#3498db',\n",
    "    hovertemplate='%{x:.2f}<br>' + \n",
    "                  agg_df.apply(lambda row: row['high_desc'] if row['score'] >= 0 else row['low_desc'], axis=1) +\n",
    "                  '<extra></extra>'\n",
    "))\n",
    "\n",
    "fig.add_trace(go.Bar(\n",
    "    y=agg_df['name'],\n",
    "    x=agg_df['pref_score'],\n",
    "    name='Preference Score',\n",
    "    orientation='h',\n",
    "    marker_color='#2ecc71',\n",
    "    hovertemplate='%{x:.2f}<br>' + \n",
    "                  agg_df.apply(lambda row: row['high_desc'] if row['pref_score'] >= 0 else row['low_desc'], axis=1) +\n",
    "                  '<extra></extra>'\n",
    "))\n",
    "\n",
    "# Add descriptions and titles as annotations\n",
    "for i, row in enumerate(agg_df.iterrows()):\n",
    "    row = row[1]\n",
    "    # Add vibe name above bars\n",
    "    fig.add_annotation(\n",
    "        x=0,  # Center position\n",
    "        y=row['name'],\n",
    "        text=f\"<b>{row['name']}</b>\",  # Bold text\n",
    "        showarrow=False,\n",
    "        yshift=20,  # Shift up from the bars\n",
    "        font=dict(size=14)\n",
    "    )\n",
    "\n",
    "# remove the y axis annotation\n",
    "fig.update_layout(yaxis=dict(visible=False))\n",
    "\n",
    "# Update layout\n",
    "fig.update_layout(\n",
    "    barmode='group',\n",
    "    title={\n",
    "        'text': f'\\\"{models[0]}\\\" model Vibes<br><sup>Mouse over the bars to see the description which aligns with {models[0]}</sup>',\n",
    "        'xanchor': 'center',\n",
    "        'y': 0.95,\n",
    "        'x': 0.5,\n",
    "        'font': {'size': 20}\n",
    "    },\n",
    "    xaxis_title='Score',\n",
    "    xaxis=dict(\n",
    "        zeroline=True, \n",
    "        zerolinewidth=2, \n",
    "        zerolinecolor='black',\n",
    "    ),\n",
    "    template='plotly_white',\n",
    "    showlegend=True,\n",
    ")\n",
    "\n",
    "fig.show()"
   ]
  },
  {
   "cell_type": "markdown",
   "metadata": {},
   "source": [
    "## Step 4: Train model identity and preference prediction models\n",
    "\n",
    "To quantify the effects of our vibes, we train a logistic regression model to predict preference and model identity given only the vibe scores. \n"
   ]
  },
  {
   "cell_type": "code",
   "execution_count": 24,
   "metadata": {},
   "outputs": [
    {
     "name": "stdout",
     "output_type": "stream",
     "text": [
      "Preference Prediction Accuracy: 0.64\n",
      "Model Identity Classification Accuracy: 0.72\n"
     ]
    }
   ],
   "source": [
    "import numpy as np\n",
    "from sklearn.model_selection import train_test_split\n",
    "from sklearn.metrics import accuracy_score\n",
    "from scipy import stats\n",
    "from sklearn.linear_model import LogisticRegression\n",
    "\n",
    "def train_and_evaluate_model(X, y, feature_names, model_name=\"\"):\n",
    "    # Split and train\n",
    "    X_train, X_test, y_train, y_test = train_test_split(X, y, test_size=0.5, random_state=42)\n",
    "    model = LogisticRegression()\n",
    "    model.fit(X_train, y_train)\n",
    "    \n",
    "    # Calculate accuracy\n",
    "    accuracy = accuracy_score(y_test, model.predict(X_test))\n",
    "    print(f\"{model_name} Accuracy: {accuracy}\")\n",
    "    \n",
    "    # Calculate p-values\n",
    "    X_with_intercept = np.column_stack([np.ones(len(X_train)), X_train])\n",
    "    predictions = model.predict(X_train)\n",
    "    mse = np.sum((predictions - y_train) ** 2) / (len(y_train) - X_with_intercept.shape[1])\n",
    "    var_covar_matrix = mse * np.linalg.inv(np.dot(X_with_intercept.T, X_with_intercept))\n",
    "    standard_errors = np.sqrt(np.diag(var_covar_matrix))[1:]\n",
    "    z_scores = model.coef_[0] / standard_errors\n",
    "    p_values = 2 * (1 - stats.norm.cdf(abs(z_scores)))\n",
    "    \n",
    "    # create dataframe with feature names, coefficients, and p-values\n",
    "    coef_df = pd.DataFrame({\n",
    "        \"vibe\": feature_names,\n",
    "        \"coef\": model.coef_[0],\n",
    "        \"p_value\": p_values\n",
    "    })\n",
    "        \n",
    "    return model, coef_df\n",
    "\n",
    "# Create feature matrices\n",
    "feature_df = pd.pivot_table(\n",
    "    vibe_df,\n",
    "    values='score',\n",
    "    index=vibe_df.index,\n",
    "    columns='vibe',\n",
    "    fill_value=0\n",
    ")\n",
    "\n",
    "# Setup data for preference prediction\n",
    "feature_df_1 = feature_df.copy()\n",
    "feature_df_2 = -1 * feature_df.copy()\n",
    "X_pref = np.vstack([feature_df_1.to_numpy(), feature_df_2.to_numpy()])\n",
    "y_pref = np.concatenate([\n",
    "    vibe_df[\"preference_feature\"][:len(feature_df)].to_numpy(), \n",
    "    -1 * vibe_df[\"preference_feature\"][:len(feature_df)].to_numpy()\n",
    "])\n",
    "\n",
    "# Setup data for model identity\n",
    "y_identity = np.concatenate([np.ones(len(feature_df_1)), -1 * np.ones(len(feature_df_2))])\n",
    "\n",
    "# Train both models\n",
    "preference_model, preference_coef_df = train_and_evaluate_model(X_pref, y_pref, feature_df.columns, \"Preference Prediction\")\n",
    "identity_model, identity_coef_df = train_and_evaluate_model(X_pref, y_identity, feature_df.columns, \"Model Identity Classification\")\n",
    "\n",
    "coef_df = identity_coef_df.merge(preference_coef_df, on=\"vibe\", suffixes=(\"_modelID\", \"_preference\")).sort_values(\"coef_preference\", ascending=False)\n",
    "coef_df[\"name\"] = coef_df[\"vibe\"].apply(lambda x: x.split(\": \")[0])\n",
    "coef_df[\"high_desc\"] = coef_df[\"vibe\"].apply(lambda x: x.split(\"High: \")[1].split(\" Low:\")[0] if \"High:\" in x else \"\")\n",
    "coef_df[\"low_desc\"] = coef_df[\"vibe\"].apply(lambda x: x.split(\"Low: \")[1] if \"Low:\" in x else \"\")"
   ]
  },
  {
   "cell_type": "code",
   "execution_count": 25,
   "metadata": {},
   "outputs": [
    {
     "data": {
      "application/vnd.plotly.v1+json": {
       "config": {
        "plotlyServerURL": "https://plot.ly"
       },
       "data": [
        {
         "hovertemplate": [
          "%{x:.4f}<br>Contains emotionally charged language and fosters connection.<extra></extra>",
          "%{x:.4f}<br>Simple, straightforward, and easy to understand<extra></extra>"
         ],
         "marker": {
          "color": "#3498db"
         },
         "name": "Preference Prediction",
         "orientation": "h",
         "type": "bar",
         "x": [
          0.9437239914611955,
          -0.04955795714706302
         ],
         "y": [
          "Emotional Engagement",
          "Complexity"
         ]
        },
        {
         "hovertemplate": [
          "%{x:.4f}<br>Contains emotionally charged language and fosters connection.<extra></extra>",
          "%{x:.4f}<br>Simple, straightforward, and easy to understand<extra></extra>"
         ],
         "marker": {
          "color": "#2ecc71"
         },
         "name": "Model Identity",
         "orientation": "h",
         "type": "bar",
         "x": [
          1.6564213264649323,
          -0.3599868571275974
         ],
         "y": [
          "Emotional Engagement",
          "Complexity"
         ]
        }
       ],
       "layout": {
        "annotations": [
         {
          "font": {
           "size": 14
          },
          "showarrow": false,
          "text": "<b>Emotional Engagement</b>",
          "x": 0,
          "y": "Emotional Engagement",
          "yshift": 20
         },
         {
          "font": {
           "size": 14
          },
          "showarrow": false,
          "text": "<b>Complexity</b>",
          "x": 0,
          "y": "Complexity",
          "yshift": 20
         }
        ],
        "barmode": "group",
        "showlegend": true,
        "template": {
         "data": {
          "bar": [
           {
            "error_x": {
             "color": "#2a3f5f"
            },
            "error_y": {
             "color": "#2a3f5f"
            },
            "marker": {
             "line": {
              "color": "white",
              "width": 0.5
             },
             "pattern": {
              "fillmode": "overlay",
              "size": 10,
              "solidity": 0.2
             }
            },
            "type": "bar"
           }
          ],
          "barpolar": [
           {
            "marker": {
             "line": {
              "color": "white",
              "width": 0.5
             },
             "pattern": {
              "fillmode": "overlay",
              "size": 10,
              "solidity": 0.2
             }
            },
            "type": "barpolar"
           }
          ],
          "carpet": [
           {
            "aaxis": {
             "endlinecolor": "#2a3f5f",
             "gridcolor": "#C8D4E3",
             "linecolor": "#C8D4E3",
             "minorgridcolor": "#C8D4E3",
             "startlinecolor": "#2a3f5f"
            },
            "baxis": {
             "endlinecolor": "#2a3f5f",
             "gridcolor": "#C8D4E3",
             "linecolor": "#C8D4E3",
             "minorgridcolor": "#C8D4E3",
             "startlinecolor": "#2a3f5f"
            },
            "type": "carpet"
           }
          ],
          "choropleth": [
           {
            "colorbar": {
             "outlinewidth": 0,
             "ticks": ""
            },
            "type": "choropleth"
           }
          ],
          "contour": [
           {
            "colorbar": {
             "outlinewidth": 0,
             "ticks": ""
            },
            "colorscale": [
             [
              0,
              "#0d0887"
             ],
             [
              0.1111111111111111,
              "#46039f"
             ],
             [
              0.2222222222222222,
              "#7201a8"
             ],
             [
              0.3333333333333333,
              "#9c179e"
             ],
             [
              0.4444444444444444,
              "#bd3786"
             ],
             [
              0.5555555555555556,
              "#d8576b"
             ],
             [
              0.6666666666666666,
              "#ed7953"
             ],
             [
              0.7777777777777778,
              "#fb9f3a"
             ],
             [
              0.8888888888888888,
              "#fdca26"
             ],
             [
              1,
              "#f0f921"
             ]
            ],
            "type": "contour"
           }
          ],
          "contourcarpet": [
           {
            "colorbar": {
             "outlinewidth": 0,
             "ticks": ""
            },
            "type": "contourcarpet"
           }
          ],
          "heatmap": [
           {
            "colorbar": {
             "outlinewidth": 0,
             "ticks": ""
            },
            "colorscale": [
             [
              0,
              "#0d0887"
             ],
             [
              0.1111111111111111,
              "#46039f"
             ],
             [
              0.2222222222222222,
              "#7201a8"
             ],
             [
              0.3333333333333333,
              "#9c179e"
             ],
             [
              0.4444444444444444,
              "#bd3786"
             ],
             [
              0.5555555555555556,
              "#d8576b"
             ],
             [
              0.6666666666666666,
              "#ed7953"
             ],
             [
              0.7777777777777778,
              "#fb9f3a"
             ],
             [
              0.8888888888888888,
              "#fdca26"
             ],
             [
              1,
              "#f0f921"
             ]
            ],
            "type": "heatmap"
           }
          ],
          "heatmapgl": [
           {
            "colorbar": {
             "outlinewidth": 0,
             "ticks": ""
            },
            "colorscale": [
             [
              0,
              "#0d0887"
             ],
             [
              0.1111111111111111,
              "#46039f"
             ],
             [
              0.2222222222222222,
              "#7201a8"
             ],
             [
              0.3333333333333333,
              "#9c179e"
             ],
             [
              0.4444444444444444,
              "#bd3786"
             ],
             [
              0.5555555555555556,
              "#d8576b"
             ],
             [
              0.6666666666666666,
              "#ed7953"
             ],
             [
              0.7777777777777778,
              "#fb9f3a"
             ],
             [
              0.8888888888888888,
              "#fdca26"
             ],
             [
              1,
              "#f0f921"
             ]
            ],
            "type": "heatmapgl"
           }
          ],
          "histogram": [
           {
            "marker": {
             "pattern": {
              "fillmode": "overlay",
              "size": 10,
              "solidity": 0.2
             }
            },
            "type": "histogram"
           }
          ],
          "histogram2d": [
           {
            "colorbar": {
             "outlinewidth": 0,
             "ticks": ""
            },
            "colorscale": [
             [
              0,
              "#0d0887"
             ],
             [
              0.1111111111111111,
              "#46039f"
             ],
             [
              0.2222222222222222,
              "#7201a8"
             ],
             [
              0.3333333333333333,
              "#9c179e"
             ],
             [
              0.4444444444444444,
              "#bd3786"
             ],
             [
              0.5555555555555556,
              "#d8576b"
             ],
             [
              0.6666666666666666,
              "#ed7953"
             ],
             [
              0.7777777777777778,
              "#fb9f3a"
             ],
             [
              0.8888888888888888,
              "#fdca26"
             ],
             [
              1,
              "#f0f921"
             ]
            ],
            "type": "histogram2d"
           }
          ],
          "histogram2dcontour": [
           {
            "colorbar": {
             "outlinewidth": 0,
             "ticks": ""
            },
            "colorscale": [
             [
              0,
              "#0d0887"
             ],
             [
              0.1111111111111111,
              "#46039f"
             ],
             [
              0.2222222222222222,
              "#7201a8"
             ],
             [
              0.3333333333333333,
              "#9c179e"
             ],
             [
              0.4444444444444444,
              "#bd3786"
             ],
             [
              0.5555555555555556,
              "#d8576b"
             ],
             [
              0.6666666666666666,
              "#ed7953"
             ],
             [
              0.7777777777777778,
              "#fb9f3a"
             ],
             [
              0.8888888888888888,
              "#fdca26"
             ],
             [
              1,
              "#f0f921"
             ]
            ],
            "type": "histogram2dcontour"
           }
          ],
          "mesh3d": [
           {
            "colorbar": {
             "outlinewidth": 0,
             "ticks": ""
            },
            "type": "mesh3d"
           }
          ],
          "parcoords": [
           {
            "line": {
             "colorbar": {
              "outlinewidth": 0,
              "ticks": ""
             }
            },
            "type": "parcoords"
           }
          ],
          "pie": [
           {
            "automargin": true,
            "type": "pie"
           }
          ],
          "scatter": [
           {
            "fillpattern": {
             "fillmode": "overlay",
             "size": 10,
             "solidity": 0.2
            },
            "type": "scatter"
           }
          ],
          "scatter3d": [
           {
            "line": {
             "colorbar": {
              "outlinewidth": 0,
              "ticks": ""
             }
            },
            "marker": {
             "colorbar": {
              "outlinewidth": 0,
              "ticks": ""
             }
            },
            "type": "scatter3d"
           }
          ],
          "scattercarpet": [
           {
            "marker": {
             "colorbar": {
              "outlinewidth": 0,
              "ticks": ""
             }
            },
            "type": "scattercarpet"
           }
          ],
          "scattergeo": [
           {
            "marker": {
             "colorbar": {
              "outlinewidth": 0,
              "ticks": ""
             }
            },
            "type": "scattergeo"
           }
          ],
          "scattergl": [
           {
            "marker": {
             "colorbar": {
              "outlinewidth": 0,
              "ticks": ""
             }
            },
            "type": "scattergl"
           }
          ],
          "scattermapbox": [
           {
            "marker": {
             "colorbar": {
              "outlinewidth": 0,
              "ticks": ""
             }
            },
            "type": "scattermapbox"
           }
          ],
          "scatterpolar": [
           {
            "marker": {
             "colorbar": {
              "outlinewidth": 0,
              "ticks": ""
             }
            },
            "type": "scatterpolar"
           }
          ],
          "scatterpolargl": [
           {
            "marker": {
             "colorbar": {
              "outlinewidth": 0,
              "ticks": ""
             }
            },
            "type": "scatterpolargl"
           }
          ],
          "scatterternary": [
           {
            "marker": {
             "colorbar": {
              "outlinewidth": 0,
              "ticks": ""
             }
            },
            "type": "scatterternary"
           }
          ],
          "surface": [
           {
            "colorbar": {
             "outlinewidth": 0,
             "ticks": ""
            },
            "colorscale": [
             [
              0,
              "#0d0887"
             ],
             [
              0.1111111111111111,
              "#46039f"
             ],
             [
              0.2222222222222222,
              "#7201a8"
             ],
             [
              0.3333333333333333,
              "#9c179e"
             ],
             [
              0.4444444444444444,
              "#bd3786"
             ],
             [
              0.5555555555555556,
              "#d8576b"
             ],
             [
              0.6666666666666666,
              "#ed7953"
             ],
             [
              0.7777777777777778,
              "#fb9f3a"
             ],
             [
              0.8888888888888888,
              "#fdca26"
             ],
             [
              1,
              "#f0f921"
             ]
            ],
            "type": "surface"
           }
          ],
          "table": [
           {
            "cells": {
             "fill": {
              "color": "#EBF0F8"
             },
             "line": {
              "color": "white"
             }
            },
            "header": {
             "fill": {
              "color": "#C8D4E3"
             },
             "line": {
              "color": "white"
             }
            },
            "type": "table"
           }
          ]
         },
         "layout": {
          "annotationdefaults": {
           "arrowcolor": "#2a3f5f",
           "arrowhead": 0,
           "arrowwidth": 1
          },
          "autotypenumbers": "strict",
          "coloraxis": {
           "colorbar": {
            "outlinewidth": 0,
            "ticks": ""
           }
          },
          "colorscale": {
           "diverging": [
            [
             0,
             "#8e0152"
            ],
            [
             0.1,
             "#c51b7d"
            ],
            [
             0.2,
             "#de77ae"
            ],
            [
             0.3,
             "#f1b6da"
            ],
            [
             0.4,
             "#fde0ef"
            ],
            [
             0.5,
             "#f7f7f7"
            ],
            [
             0.6,
             "#e6f5d0"
            ],
            [
             0.7,
             "#b8e186"
            ],
            [
             0.8,
             "#7fbc41"
            ],
            [
             0.9,
             "#4d9221"
            ],
            [
             1,
             "#276419"
            ]
           ],
           "sequential": [
            [
             0,
             "#0d0887"
            ],
            [
             0.1111111111111111,
             "#46039f"
            ],
            [
             0.2222222222222222,
             "#7201a8"
            ],
            [
             0.3333333333333333,
             "#9c179e"
            ],
            [
             0.4444444444444444,
             "#bd3786"
            ],
            [
             0.5555555555555556,
             "#d8576b"
            ],
            [
             0.6666666666666666,
             "#ed7953"
            ],
            [
             0.7777777777777778,
             "#fb9f3a"
            ],
            [
             0.8888888888888888,
             "#fdca26"
            ],
            [
             1,
             "#f0f921"
            ]
           ],
           "sequentialminus": [
            [
             0,
             "#0d0887"
            ],
            [
             0.1111111111111111,
             "#46039f"
            ],
            [
             0.2222222222222222,
             "#7201a8"
            ],
            [
             0.3333333333333333,
             "#9c179e"
            ],
            [
             0.4444444444444444,
             "#bd3786"
            ],
            [
             0.5555555555555556,
             "#d8576b"
            ],
            [
             0.6666666666666666,
             "#ed7953"
            ],
            [
             0.7777777777777778,
             "#fb9f3a"
            ],
            [
             0.8888888888888888,
             "#fdca26"
            ],
            [
             1,
             "#f0f921"
            ]
           ]
          },
          "colorway": [
           "#636efa",
           "#EF553B",
           "#00cc96",
           "#ab63fa",
           "#FFA15A",
           "#19d3f3",
           "#FF6692",
           "#B6E880",
           "#FF97FF",
           "#FECB52"
          ],
          "font": {
           "color": "#2a3f5f"
          },
          "geo": {
           "bgcolor": "white",
           "lakecolor": "white",
           "landcolor": "white",
           "showlakes": true,
           "showland": true,
           "subunitcolor": "#C8D4E3"
          },
          "hoverlabel": {
           "align": "left"
          },
          "hovermode": "closest",
          "mapbox": {
           "style": "light"
          },
          "paper_bgcolor": "white",
          "plot_bgcolor": "white",
          "polar": {
           "angularaxis": {
            "gridcolor": "#EBF0F8",
            "linecolor": "#EBF0F8",
            "ticks": ""
           },
           "bgcolor": "white",
           "radialaxis": {
            "gridcolor": "#EBF0F8",
            "linecolor": "#EBF0F8",
            "ticks": ""
           }
          },
          "scene": {
           "xaxis": {
            "backgroundcolor": "white",
            "gridcolor": "#DFE8F3",
            "gridwidth": 2,
            "linecolor": "#EBF0F8",
            "showbackground": true,
            "ticks": "",
            "zerolinecolor": "#EBF0F8"
           },
           "yaxis": {
            "backgroundcolor": "white",
            "gridcolor": "#DFE8F3",
            "gridwidth": 2,
            "linecolor": "#EBF0F8",
            "showbackground": true,
            "ticks": "",
            "zerolinecolor": "#EBF0F8"
           },
           "zaxis": {
            "backgroundcolor": "white",
            "gridcolor": "#DFE8F3",
            "gridwidth": 2,
            "linecolor": "#EBF0F8",
            "showbackground": true,
            "ticks": "",
            "zerolinecolor": "#EBF0F8"
           }
          },
          "shapedefaults": {
           "line": {
            "color": "#2a3f5f"
           }
          },
          "ternary": {
           "aaxis": {
            "gridcolor": "#DFE8F3",
            "linecolor": "#A2B1C6",
            "ticks": ""
           },
           "baxis": {
            "gridcolor": "#DFE8F3",
            "linecolor": "#A2B1C6",
            "ticks": ""
           },
           "bgcolor": "white",
           "caxis": {
            "gridcolor": "#DFE8F3",
            "linecolor": "#A2B1C6",
            "ticks": ""
           }
          },
          "title": {
           "x": 0.05
          },
          "xaxis": {
           "automargin": true,
           "gridcolor": "#EBF0F8",
           "linecolor": "#EBF0F8",
           "ticks": "",
           "title": {
            "standoff": 15
           },
           "zerolinecolor": "#EBF0F8",
           "zerolinewidth": 2
          },
          "yaxis": {
           "automargin": true,
           "gridcolor": "#EBF0F8",
           "linecolor": "#EBF0F8",
           "ticks": "",
           "title": {
            "standoff": 15
           },
           "zerolinecolor": "#EBF0F8",
           "zerolinewidth": 2
          }
         }
        },
        "title": {
         "font": {
          "size": 20
         },
         "text": "Feature Importance Coefficients<br><sup>Hover to see descriptions of high/low values</sup>",
         "x": 0.5,
         "xanchor": "center",
         "y": 0.95
        },
        "xaxis": {
         "title": {
          "text": "Coefficient Value"
         },
         "zeroline": true,
         "zerolinecolor": "black",
         "zerolinewidth": 2
        },
        "yaxis": {
         "visible": false
        }
       }
      },
      "text/html": [
       "<div>                            <div id=\"ea4daa92-789b-4bb3-982f-39ebda047f1a\" class=\"plotly-graph-div\" style=\"height:525px; width:100%;\"></div>            <script type=\"text/javascript\">                require([\"plotly\"], function(Plotly) {                    window.PLOTLYENV=window.PLOTLYENV || {};                                    if (document.getElementById(\"ea4daa92-789b-4bb3-982f-39ebda047f1a\")) {                    Plotly.newPlot(                        \"ea4daa92-789b-4bb3-982f-39ebda047f1a\",                        [{\"hovertemplate\":[\"%{x:.4f}\\u003cbr\\u003eContains emotionally charged language and fosters connection.\\u003cextra\\u003e\\u003c\\u002fextra\\u003e\",\"%{x:.4f}\\u003cbr\\u003eSimple, straightforward, and easy to understand\\u003cextra\\u003e\\u003c\\u002fextra\\u003e\"],\"marker\":{\"color\":\"#3498db\"},\"name\":\"Preference Prediction\",\"orientation\":\"h\",\"x\":[0.9437239914611955,-0.04955795714706302],\"y\":[\"Emotional Engagement\",\"Complexity\"],\"type\":\"bar\"},{\"hovertemplate\":[\"%{x:.4f}\\u003cbr\\u003eContains emotionally charged language and fosters connection.\\u003cextra\\u003e\\u003c\\u002fextra\\u003e\",\"%{x:.4f}\\u003cbr\\u003eSimple, straightforward, and easy to understand\\u003cextra\\u003e\\u003c\\u002fextra\\u003e\"],\"marker\":{\"color\":\"#2ecc71\"},\"name\":\"Model Identity\",\"orientation\":\"h\",\"x\":[1.6564213264649323,-0.3599868571275974],\"y\":[\"Emotional Engagement\",\"Complexity\"],\"type\":\"bar\"}],                        {\"template\":{\"data\":{\"barpolar\":[{\"marker\":{\"line\":{\"color\":\"white\",\"width\":0.5},\"pattern\":{\"fillmode\":\"overlay\",\"size\":10,\"solidity\":0.2}},\"type\":\"barpolar\"}],\"bar\":[{\"error_x\":{\"color\":\"#2a3f5f\"},\"error_y\":{\"color\":\"#2a3f5f\"},\"marker\":{\"line\":{\"color\":\"white\",\"width\":0.5},\"pattern\":{\"fillmode\":\"overlay\",\"size\":10,\"solidity\":0.2}},\"type\":\"bar\"}],\"carpet\":[{\"aaxis\":{\"endlinecolor\":\"#2a3f5f\",\"gridcolor\":\"#C8D4E3\",\"linecolor\":\"#C8D4E3\",\"minorgridcolor\":\"#C8D4E3\",\"startlinecolor\":\"#2a3f5f\"},\"baxis\":{\"endlinecolor\":\"#2a3f5f\",\"gridcolor\":\"#C8D4E3\",\"linecolor\":\"#C8D4E3\",\"minorgridcolor\":\"#C8D4E3\",\"startlinecolor\":\"#2a3f5f\"},\"type\":\"carpet\"}],\"choropleth\":[{\"colorbar\":{\"outlinewidth\":0,\"ticks\":\"\"},\"type\":\"choropleth\"}],\"contourcarpet\":[{\"colorbar\":{\"outlinewidth\":0,\"ticks\":\"\"},\"type\":\"contourcarpet\"}],\"contour\":[{\"colorbar\":{\"outlinewidth\":0,\"ticks\":\"\"},\"colorscale\":[[0.0,\"#0d0887\"],[0.1111111111111111,\"#46039f\"],[0.2222222222222222,\"#7201a8\"],[0.3333333333333333,\"#9c179e\"],[0.4444444444444444,\"#bd3786\"],[0.5555555555555556,\"#d8576b\"],[0.6666666666666666,\"#ed7953\"],[0.7777777777777778,\"#fb9f3a\"],[0.8888888888888888,\"#fdca26\"],[1.0,\"#f0f921\"]],\"type\":\"contour\"}],\"heatmapgl\":[{\"colorbar\":{\"outlinewidth\":0,\"ticks\":\"\"},\"colorscale\":[[0.0,\"#0d0887\"],[0.1111111111111111,\"#46039f\"],[0.2222222222222222,\"#7201a8\"],[0.3333333333333333,\"#9c179e\"],[0.4444444444444444,\"#bd3786\"],[0.5555555555555556,\"#d8576b\"],[0.6666666666666666,\"#ed7953\"],[0.7777777777777778,\"#fb9f3a\"],[0.8888888888888888,\"#fdca26\"],[1.0,\"#f0f921\"]],\"type\":\"heatmapgl\"}],\"heatmap\":[{\"colorbar\":{\"outlinewidth\":0,\"ticks\":\"\"},\"colorscale\":[[0.0,\"#0d0887\"],[0.1111111111111111,\"#46039f\"],[0.2222222222222222,\"#7201a8\"],[0.3333333333333333,\"#9c179e\"],[0.4444444444444444,\"#bd3786\"],[0.5555555555555556,\"#d8576b\"],[0.6666666666666666,\"#ed7953\"],[0.7777777777777778,\"#fb9f3a\"],[0.8888888888888888,\"#fdca26\"],[1.0,\"#f0f921\"]],\"type\":\"heatmap\"}],\"histogram2dcontour\":[{\"colorbar\":{\"outlinewidth\":0,\"ticks\":\"\"},\"colorscale\":[[0.0,\"#0d0887\"],[0.1111111111111111,\"#46039f\"],[0.2222222222222222,\"#7201a8\"],[0.3333333333333333,\"#9c179e\"],[0.4444444444444444,\"#bd3786\"],[0.5555555555555556,\"#d8576b\"],[0.6666666666666666,\"#ed7953\"],[0.7777777777777778,\"#fb9f3a\"],[0.8888888888888888,\"#fdca26\"],[1.0,\"#f0f921\"]],\"type\":\"histogram2dcontour\"}],\"histogram2d\":[{\"colorbar\":{\"outlinewidth\":0,\"ticks\":\"\"},\"colorscale\":[[0.0,\"#0d0887\"],[0.1111111111111111,\"#46039f\"],[0.2222222222222222,\"#7201a8\"],[0.3333333333333333,\"#9c179e\"],[0.4444444444444444,\"#bd3786\"],[0.5555555555555556,\"#d8576b\"],[0.6666666666666666,\"#ed7953\"],[0.7777777777777778,\"#fb9f3a\"],[0.8888888888888888,\"#fdca26\"],[1.0,\"#f0f921\"]],\"type\":\"histogram2d\"}],\"histogram\":[{\"marker\":{\"pattern\":{\"fillmode\":\"overlay\",\"size\":10,\"solidity\":0.2}},\"type\":\"histogram\"}],\"mesh3d\":[{\"colorbar\":{\"outlinewidth\":0,\"ticks\":\"\"},\"type\":\"mesh3d\"}],\"parcoords\":[{\"line\":{\"colorbar\":{\"outlinewidth\":0,\"ticks\":\"\"}},\"type\":\"parcoords\"}],\"pie\":[{\"automargin\":true,\"type\":\"pie\"}],\"scatter3d\":[{\"line\":{\"colorbar\":{\"outlinewidth\":0,\"ticks\":\"\"}},\"marker\":{\"colorbar\":{\"outlinewidth\":0,\"ticks\":\"\"}},\"type\":\"scatter3d\"}],\"scattercarpet\":[{\"marker\":{\"colorbar\":{\"outlinewidth\":0,\"ticks\":\"\"}},\"type\":\"scattercarpet\"}],\"scattergeo\":[{\"marker\":{\"colorbar\":{\"outlinewidth\":0,\"ticks\":\"\"}},\"type\":\"scattergeo\"}],\"scattergl\":[{\"marker\":{\"colorbar\":{\"outlinewidth\":0,\"ticks\":\"\"}},\"type\":\"scattergl\"}],\"scattermapbox\":[{\"marker\":{\"colorbar\":{\"outlinewidth\":0,\"ticks\":\"\"}},\"type\":\"scattermapbox\"}],\"scatterpolargl\":[{\"marker\":{\"colorbar\":{\"outlinewidth\":0,\"ticks\":\"\"}},\"type\":\"scatterpolargl\"}],\"scatterpolar\":[{\"marker\":{\"colorbar\":{\"outlinewidth\":0,\"ticks\":\"\"}},\"type\":\"scatterpolar\"}],\"scatter\":[{\"fillpattern\":{\"fillmode\":\"overlay\",\"size\":10,\"solidity\":0.2},\"type\":\"scatter\"}],\"scatterternary\":[{\"marker\":{\"colorbar\":{\"outlinewidth\":0,\"ticks\":\"\"}},\"type\":\"scatterternary\"}],\"surface\":[{\"colorbar\":{\"outlinewidth\":0,\"ticks\":\"\"},\"colorscale\":[[0.0,\"#0d0887\"],[0.1111111111111111,\"#46039f\"],[0.2222222222222222,\"#7201a8\"],[0.3333333333333333,\"#9c179e\"],[0.4444444444444444,\"#bd3786\"],[0.5555555555555556,\"#d8576b\"],[0.6666666666666666,\"#ed7953\"],[0.7777777777777778,\"#fb9f3a\"],[0.8888888888888888,\"#fdca26\"],[1.0,\"#f0f921\"]],\"type\":\"surface\"}],\"table\":[{\"cells\":{\"fill\":{\"color\":\"#EBF0F8\"},\"line\":{\"color\":\"white\"}},\"header\":{\"fill\":{\"color\":\"#C8D4E3\"},\"line\":{\"color\":\"white\"}},\"type\":\"table\"}]},\"layout\":{\"annotationdefaults\":{\"arrowcolor\":\"#2a3f5f\",\"arrowhead\":0,\"arrowwidth\":1},\"autotypenumbers\":\"strict\",\"coloraxis\":{\"colorbar\":{\"outlinewidth\":0,\"ticks\":\"\"}},\"colorscale\":{\"diverging\":[[0,\"#8e0152\"],[0.1,\"#c51b7d\"],[0.2,\"#de77ae\"],[0.3,\"#f1b6da\"],[0.4,\"#fde0ef\"],[0.5,\"#f7f7f7\"],[0.6,\"#e6f5d0\"],[0.7,\"#b8e186\"],[0.8,\"#7fbc41\"],[0.9,\"#4d9221\"],[1,\"#276419\"]],\"sequential\":[[0.0,\"#0d0887\"],[0.1111111111111111,\"#46039f\"],[0.2222222222222222,\"#7201a8\"],[0.3333333333333333,\"#9c179e\"],[0.4444444444444444,\"#bd3786\"],[0.5555555555555556,\"#d8576b\"],[0.6666666666666666,\"#ed7953\"],[0.7777777777777778,\"#fb9f3a\"],[0.8888888888888888,\"#fdca26\"],[1.0,\"#f0f921\"]],\"sequentialminus\":[[0.0,\"#0d0887\"],[0.1111111111111111,\"#46039f\"],[0.2222222222222222,\"#7201a8\"],[0.3333333333333333,\"#9c179e\"],[0.4444444444444444,\"#bd3786\"],[0.5555555555555556,\"#d8576b\"],[0.6666666666666666,\"#ed7953\"],[0.7777777777777778,\"#fb9f3a\"],[0.8888888888888888,\"#fdca26\"],[1.0,\"#f0f921\"]]},\"colorway\":[\"#636efa\",\"#EF553B\",\"#00cc96\",\"#ab63fa\",\"#FFA15A\",\"#19d3f3\",\"#FF6692\",\"#B6E880\",\"#FF97FF\",\"#FECB52\"],\"font\":{\"color\":\"#2a3f5f\"},\"geo\":{\"bgcolor\":\"white\",\"lakecolor\":\"white\",\"landcolor\":\"white\",\"showlakes\":true,\"showland\":true,\"subunitcolor\":\"#C8D4E3\"},\"hoverlabel\":{\"align\":\"left\"},\"hovermode\":\"closest\",\"mapbox\":{\"style\":\"light\"},\"paper_bgcolor\":\"white\",\"plot_bgcolor\":\"white\",\"polar\":{\"angularaxis\":{\"gridcolor\":\"#EBF0F8\",\"linecolor\":\"#EBF0F8\",\"ticks\":\"\"},\"bgcolor\":\"white\",\"radialaxis\":{\"gridcolor\":\"#EBF0F8\",\"linecolor\":\"#EBF0F8\",\"ticks\":\"\"}},\"scene\":{\"xaxis\":{\"backgroundcolor\":\"white\",\"gridcolor\":\"#DFE8F3\",\"gridwidth\":2,\"linecolor\":\"#EBF0F8\",\"showbackground\":true,\"ticks\":\"\",\"zerolinecolor\":\"#EBF0F8\"},\"yaxis\":{\"backgroundcolor\":\"white\",\"gridcolor\":\"#DFE8F3\",\"gridwidth\":2,\"linecolor\":\"#EBF0F8\",\"showbackground\":true,\"ticks\":\"\",\"zerolinecolor\":\"#EBF0F8\"},\"zaxis\":{\"backgroundcolor\":\"white\",\"gridcolor\":\"#DFE8F3\",\"gridwidth\":2,\"linecolor\":\"#EBF0F8\",\"showbackground\":true,\"ticks\":\"\",\"zerolinecolor\":\"#EBF0F8\"}},\"shapedefaults\":{\"line\":{\"color\":\"#2a3f5f\"}},\"ternary\":{\"aaxis\":{\"gridcolor\":\"#DFE8F3\",\"linecolor\":\"#A2B1C6\",\"ticks\":\"\"},\"baxis\":{\"gridcolor\":\"#DFE8F3\",\"linecolor\":\"#A2B1C6\",\"ticks\":\"\"},\"bgcolor\":\"white\",\"caxis\":{\"gridcolor\":\"#DFE8F3\",\"linecolor\":\"#A2B1C6\",\"ticks\":\"\"}},\"title\":{\"x\":0.05},\"xaxis\":{\"automargin\":true,\"gridcolor\":\"#EBF0F8\",\"linecolor\":\"#EBF0F8\",\"ticks\":\"\",\"title\":{\"standoff\":15},\"zerolinecolor\":\"#EBF0F8\",\"zerolinewidth\":2},\"yaxis\":{\"automargin\":true,\"gridcolor\":\"#EBF0F8\",\"linecolor\":\"#EBF0F8\",\"ticks\":\"\",\"title\":{\"standoff\":15},\"zerolinecolor\":\"#EBF0F8\",\"zerolinewidth\":2}}},\"annotations\":[{\"font\":{\"size\":14},\"showarrow\":false,\"text\":\"\\u003cb\\u003eEmotional Engagement\\u003c\\u002fb\\u003e\",\"x\":0,\"y\":\"Emotional Engagement\",\"yshift\":20},{\"font\":{\"size\":14},\"showarrow\":false,\"text\":\"\\u003cb\\u003eComplexity\\u003c\\u002fb\\u003e\",\"x\":0,\"y\":\"Complexity\",\"yshift\":20}],\"title\":{\"font\":{\"size\":20},\"text\":\"Feature Importance Coefficients\\u003cbr\\u003e\\u003csup\\u003eHover to see descriptions of high\\u002flow values\\u003c\\u002fsup\\u003e\",\"xanchor\":\"center\",\"y\":0.95,\"x\":0.5},\"xaxis\":{\"title\":{\"text\":\"Coefficient Value\"},\"zeroline\":true,\"zerolinewidth\":2,\"zerolinecolor\":\"black\"},\"yaxis\":{\"visible\":false},\"barmode\":\"group\",\"showlegend\":true},                        {\"responsive\": true}                    ).then(function(){\n",
       "                            \n",
       "var gd = document.getElementById('ea4daa92-789b-4bb3-982f-39ebda047f1a');\n",
       "var x = new MutationObserver(function (mutations, observer) {{\n",
       "        var display = window.getComputedStyle(gd).display;\n",
       "        if (!display || display === 'none') {{\n",
       "            console.log([gd, 'removed!']);\n",
       "            Plotly.purge(gd);\n",
       "            observer.disconnect();\n",
       "        }}\n",
       "}});\n",
       "\n",
       "// Listen for the removal of the full notebook cells\n",
       "var notebookContainer = gd.closest('#notebook-container');\n",
       "if (notebookContainer) {{\n",
       "    x.observe(notebookContainer, {childList: true});\n",
       "}}\n",
       "\n",
       "// Listen for the clearing of the current output cell\n",
       "var outputEl = gd.closest('.output');\n",
       "if (outputEl) {{\n",
       "    x.observe(outputEl, {childList: true});\n",
       "}}\n",
       "\n",
       "                        })                };                });            </script>        </div>"
      ]
     },
     "metadata": {},
     "output_type": "display_data"
    }
   ],
   "source": [
    "# Create figure\n",
    "fig = go.Figure()\n",
    "\n",
    "# Add bars for preference coefficients\n",
    "fig.add_trace(go.Bar(\n",
    "    y=coef_df['name'],\n",
    "    x=coef_df['coef_preference'],\n",
    "    name='Preference Prediction',\n",
    "    orientation='h',\n",
    "    marker_color='#3498db',\n",
    "    hovertemplate='%{x:.4f}<br>' + \n",
    "                  coef_df.apply(lambda row: row['high_desc'] if row['coef_preference'] >= 0 else row['low_desc'], axis=1) +\n",
    "                  '<extra></extra>'\n",
    "))\n",
    "\n",
    "# Add bars for identity coefficients\n",
    "fig.add_trace(go.Bar(\n",
    "    y=coef_df['name'],\n",
    "    x=coef_df['coef_modelID'],\n",
    "    name='Model Identity',\n",
    "    orientation='h',\n",
    "    marker_color='#2ecc71',\n",
    "    hovertemplate='%{x:.4f}<br>' + \n",
    "                  coef_df.apply(lambda row: row['high_desc'] if row['coef_modelID'] >= 0 else row['low_desc'], axis=1) +\n",
    "                  '<extra></extra>'\n",
    "))\n",
    "\n",
    "# Add vibe names as annotations\n",
    "for name in coef_df['name']:\n",
    "    fig.add_annotation(\n",
    "        x=0,\n",
    "        y=name,\n",
    "        text=f\"<b>{name}</b>\",\n",
    "        showarrow=False,\n",
    "        yshift=20,\n",
    "        font=dict(size=14)\n",
    "    )\n",
    "\n",
    "# Update layout\n",
    "fig.update_layout(\n",
    "    barmode='group',\n",
    "    title={\n",
    "        'text': 'Feature Importance Coefficients<br><sup>Hover to see descriptions of high/low values</sup>',\n",
    "        'xanchor': 'center',\n",
    "        'y': 0.95,\n",
    "        'x': 0.5,\n",
    "        'font': {'size': 20}\n",
    "    },\n",
    "    xaxis_title='Coefficient Value',\n",
    "    xaxis=dict(\n",
    "        zeroline=True,\n",
    "        zerolinewidth=2,\n",
    "        zerolinecolor='black',\n",
    "    ),\n",
    "    yaxis=dict(visible=False),\n",
    "    template='plotly_white',\n",
    "    showlegend=True,\n",
    ")\n",
    "\n",
    "fig.show()"
   ]
  },
  {
   "cell_type": "code",
   "execution_count": 11,
   "metadata": {},
   "outputs": [
    {
     "data": {
      "text/html": [
       "<div>\n",
       "<style scoped>\n",
       "    .dataframe tbody tr th:only-of-type {\n",
       "        vertical-align: middle;\n",
       "    }\n",
       "\n",
       "    .dataframe tbody tr th {\n",
       "        vertical-align: top;\n",
       "    }\n",
       "\n",
       "    .dataframe thead th {\n",
       "        text-align: right;\n",
       "    }\n",
       "</style>\n",
       "<table border=\"1\" class=\"dataframe\">\n",
       "  <thead>\n",
       "    <tr style=\"text-align: right;\">\n",
       "      <th></th>\n",
       "      <th>vibe</th>\n",
       "      <th>pref_score</th>\n",
       "      <th>score</th>\n",
       "      <th>name</th>\n",
       "      <th>high_desc</th>\n",
       "      <th>low_desc</th>\n",
       "      <th>coef_modelID</th>\n",
       "      <th>p_value_modelID</th>\n",
       "      <th>coef_preference</th>\n",
       "      <th>p_value_preference</th>\n",
       "    </tr>\n",
       "  </thead>\n",
       "  <tbody>\n",
       "    <tr>\n",
       "      <th>0</th>\n",
       "      <td>Complexity: High: Multi-layered, intricate, an...</td>\n",
       "      <td>0.20</td>\n",
       "      <td>0.24</td>\n",
       "      <td>Complexity</td>\n",
       "      <td>Multi-layered, intricate, and detailed.</td>\n",
       "      <td>Simple, straightforward, and easy to understand</td>\n",
       "      <td>-0.478955</td>\n",
       "      <td>0.073299</td>\n",
       "      <td>-0.091971</td>\n",
       "      <td>0.778863</td>\n",
       "    </tr>\n",
       "    <tr>\n",
       "      <th>1</th>\n",
       "      <td>Emotional Engagement: High: Contains emotional...</td>\n",
       "      <td>0.38</td>\n",
       "      <td>0.54</td>\n",
       "      <td>Emotional Engagement</td>\n",
       "      <td>Contains emotionally charged language and show...</td>\n",
       "      <td>Maintains a neutral tone and focuses on factua...</td>\n",
       "      <td>1.828663</td>\n",
       "      <td>0.000000</td>\n",
       "      <td>1.039043</td>\n",
       "      <td>0.000041</td>\n",
       "    </tr>\n",
       "  </tbody>\n",
       "</table>\n",
       "</div>"
      ],
      "text/plain": [
       "                                                vibe  pref_score  score  \\\n",
       "0  Complexity: High: Multi-layered, intricate, an...        0.20   0.24   \n",
       "1  Emotional Engagement: High: Contains emotional...        0.38   0.54   \n",
       "\n",
       "                   name                                          high_desc  \\\n",
       "0            Complexity            Multi-layered, intricate, and detailed.   \n",
       "1  Emotional Engagement  Contains emotionally charged language and show...   \n",
       "\n",
       "                                            low_desc  coef_modelID  \\\n",
       "0    Simple, straightforward, and easy to understand     -0.478955   \n",
       "1  Maintains a neutral tone and focuses on factua...      1.828663   \n",
       "\n",
       "   p_value_modelID  coef_preference  p_value_preference  \n",
       "0         0.073299        -0.091971            0.778863  \n",
       "1         0.000000         1.039043            0.000041  "
      ]
     },
     "execution_count": 11,
     "metadata": {},
     "output_type": "execute_result"
    }
   ],
   "source": [
    "vibe_metrics = agg_df.merge(coef_df, on=[\"vibe\", \"name\", \"high_desc\", \"low_desc\"])\n",
    "vibe_metrics"
   ]
  },
  {
   "cell_type": "code",
   "execution_count": null,
   "metadata": {},
   "outputs": [],
   "source": []
  },
  {
   "cell_type": "code",
   "execution_count": null,
   "metadata": {},
   "outputs": [],
   "source": []
  }
 ],
 "metadata": {
  "kernelspec": {
   "display_name": "vibecheck",
   "language": "python",
   "name": "python3"
  },
  "language_info": {
   "codemirror_mode": {
    "name": "ipython",
    "version": 3
   },
   "file_extension": ".py",
   "mimetype": "text/x-python",
   "name": "python",
   "nbconvert_exporter": "python",
   "pygments_lexer": "ipython3",
   "version": "3.10.15"
  }
 },
 "nbformat": 4,
 "nbformat_minor": 2
}
